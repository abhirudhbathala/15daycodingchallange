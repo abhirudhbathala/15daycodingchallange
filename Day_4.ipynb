{
 "cells": [
  {
   "cell_type": "code",
   "execution_count": 1,
   "id": "2a5b22ca-9d01-4123-9a2c-41335abd5d36",
   "metadata": {},
   "outputs": [
    {
     "name": "stdin",
     "output_type": "stream",
     "text": [
      "Enter no of kms: 25\n"
     ]
    },
    {
     "name": "stdout",
     "output_type": "stream",
     "text": [
      "25 kms is converted into meters:25000\n"
     ]
    }
   ],
   "source": [
    "# Write program to convert kms to meters using lambda function.\n",
    "dist_mts=lambda km: km*1000\n",
    "kms=int(input('Enter no of kms:'))\n",
    "print('{} kms is converted into meters:{}'.format(kms,dist_mts(kms)))"
   ]
  },
  {
   "cell_type": "code",
   "execution_count": 26,
   "id": "964f34dc-41fc-46f7-b27d-1d01a62110eb",
   "metadata": {},
   "outputs": [
    {
     "name": "stdin",
     "output_type": "stream",
     "text": [
      "Enter a number: 192\n"
     ]
    },
    {
     "name": "stdout",
     "output_type": "stream",
     "text": [
      "Sum of digits of 192 is 12\n"
     ]
    }
   ],
   "source": [
    "# Write a function to print sum of digits in a number.\n",
    "def sum_digits(n):\n",
    "    sum=0\n",
    "    for i in str(n):\n",
    "        sum+=int(i)\n",
    "    return print('Sum of digits of {} is {}'.format(n,sum))\n",
    "num=int(input('Enter a number:'))\n",
    "sum_digits(num)"
   ]
  },
  {
   "cell_type": "code",
   "execution_count": 27,
   "id": "7b54a881-11f8-4cde-85f8-64c801663f1b",
   "metadata": {},
   "outputs": [
    {
     "name": "stdout",
     "output_type": "stream",
     "text": [
      "This program prints ASCII value of a character:\n"
     ]
    },
    {
     "name": "stdin",
     "output_type": "stream",
     "text": [
      "Enter a character: &\n"
     ]
    },
    {
     "name": "stdout",
     "output_type": "stream",
     "text": [
      "The ASCII value of charcater '&' is 38\n"
     ]
    }
   ],
   "source": [
    "# Write a function to return ASCII value of a character.\n",
    "def ASCII(char):\n",
    "    return ord(char)\n",
    "print('This program prints ASCII value of a character:')\n",
    "char=input('Enter a character:')\n",
    "print(\"The ASCII value of charcater '{}' is {}\".format(char,ASCII(char)))"
   ]
  },
  {
   "cell_type": "code",
   "execution_count": 29,
   "id": "059b978f-a25a-4731-8c4b-55eb520c12bb",
   "metadata": {},
   "outputs": [
    {
     "name": "stdout",
     "output_type": "stream",
     "text": [
      "items_weight: [8, 9, 10, 4, 8, 2, 4, 1, 6, 3]\n",
      "Total no of bags required to pack items:6\n"
     ]
    }
   ],
   "source": [
    "# A shopping bag can hold 10 kgs. Write a function to take list that contain weights of items and return number of bags required to pack the items.\n",
    "def bags(items):\n",
    "    total_weight=sum(items)\n",
    "    if total_weight%10>0:\n",
    "        bags=int((total_weight/10)+1)\n",
    "    else:\n",
    "        bags=int(total_weight/10)\n",
    "    return print('Total no of bags required to pack items:{}'.format(bags))\n",
    "items=[8,9,10,4,8,2,4,1,6,3]\n",
    "print('items_weight:',items)\n",
    "bags(items)"
   ]
  },
  {
   "cell_type": "code",
   "execution_count": 8,
   "id": "ddc1c18f-5149-4b0a-ba43-ea38dc5be8a5",
   "metadata": {},
   "outputs": [
    {
     "name": "stdout",
     "output_type": "stream",
     "text": [
      "Name of student: Ravi\n",
      "Age of student: 21\n",
      "Marks of student: (92, 95, 98, 85, 91)\n"
     ]
    }
   ],
   "source": [
    "'''\n",
    "Declare a class Student that construct object with attributes name and age.\n",
    "Declare a class Marks that inherit the Student class and override __init__ method and construct the object with name, age and *marks (as variable length arguments):\n",
    "Declare method in child class that displays the student details and call it in the program.\n",
    "Hint: use super (). __init__ (name, age) in child class constructor\n",
    "'''\n",
    "class Student():\n",
    "    def __init__(self,name,age):\n",
    "        self.name = name\n",
    "        self.age = age\n",
    "class Marks(Student):\n",
    "    def __init__(self,name,age,*marks):\n",
    "        super().__init__(name,age)\n",
    "        self.marks=marks\n",
    "    def show(self):\n",
    "        print('Name of student:',self.name)\n",
    "        print('Age of student:',self.age)\n",
    "        print('Marks of student:',self.marks)\n",
    "\n",
    "obj=Marks('Ravi',21,92,95,98,85,91)\n",
    "obj.show()"
   ]
  },
  {
   "cell_type": "code",
   "execution_count": 9,
   "id": "c99a8d9d-0dfd-4198-a2d4-9d11bf8273fc",
   "metadata": {},
   "outputs": [
    {
     "name": "stdin",
     "output_type": "stream",
     "text": [
      "Enter a string: 123&abc\n"
     ]
    },
    {
     "name": "stdout",
     "output_type": "stream",
     "text": [
      "The word \"123&abc\" contains special characters.\n"
     ]
    }
   ],
   "source": [
    "# Write a program to check whether a word contains special character or not.\n",
    "def char_check(word):\n",
    "    spl=False\n",
    "    for i in word:\n",
    "        if i.isalpha():\n",
    "            pass\n",
    "        elif i.isdigit():\n",
    "            pass\n",
    "        else:\n",
    "            spl=True\n",
    "    if spl:\n",
    "        return print('The word \"{}\" contains special characters.'.format(word))\n",
    "    else:\n",
    "        return print('The word \"{}\" does not contains special characters.'.format(word))\n",
    "word = input('Enter a string:')\n",
    "char_check(word)"
   ]
  },
  {
   "cell_type": "code",
   "execution_count": 11,
   "id": "0aa58236-66ef-4e00-b18e-30c697c07c8c",
   "metadata": {},
   "outputs": [
    {
     "name": "stdin",
     "output_type": "stream",
     "text": [
      "Enter your role:\n",
      "student-0\n",
      "others-1\n",
      "your_choice: 0\n",
      "Enter your account id: E1234\n"
     ]
    },
    {
     "name": "stdout",
     "output_type": "stream",
     "text": [
      "Actual subscription price(in rupees): 249\n",
      "Price after discount: 224.1\n"
     ]
    }
   ],
   "source": [
    "'''\n",
    "Write a program to print subscription price after discount\n",
    "-\tstudents get 10% discount\n",
    "-\tOthers get 5% discount.\n",
    "-\tIf first purchase gets additional 5% discount.\n",
    "'''\n",
    "price = 249\n",
    "accounts = {'A1234','B1234','C1234','D1234','E1234'}\n",
    "role = int(input('Enter your role:\\nstudent-0\\nothers-1\\nyour_choice:'))\n",
    "account_id = input('Enter your account id:')\n",
    "beginner = account_id not in accounts\n",
    "print('Actual subscription price(in rupees):',price)\n",
    "if role:\n",
    "    discount=5\n",
    "    if beginner:\n",
    "        discount+=5\n",
    "else:\n",
    "    discount=10\n",
    "    if beginner:\n",
    "        discount+=5\n",
    "print('Price after discount:',price-price*(discount/100))"
   ]
  },
  {
   "cell_type": "code",
   "execution_count": 13,
   "id": "4eee1244-6868-4700-afc4-66d895d185dd",
   "metadata": {},
   "outputs": [
    {
     "name": "stdin",
     "output_type": "stream",
     "text": [
      "Enter start of range: 9\n",
      "Enter stop of range: 27\n"
     ]
    },
    {
     "name": "stdout",
     "output_type": "stream",
     "text": [
      "The odd numbers between the within the given range: [9, 11, 13, 15, 17, 19, 21, 23, 25]\n"
     ]
    }
   ],
   "source": [
    "'''\n",
    "Write a program to print odd numbers using filter function by passing lambda function and range () as parameters.\n",
    "Hint: odd_nums = list (filter (fun, range (start, end)))\n",
    "'''\n",
    "start, stop = int(input('Enter start of range:')), int(input('Enter stop of range:'))\n",
    "odd_nums = list(filter((lambda n: n if n%2 else None),range(start,stop)))\n",
    "print('The odd numbers between the within the given range:',odd_nums)"
   ]
  },
  {
   "cell_type": "code",
   "execution_count": 25,
   "id": "31a8a85e-e8e2-4d06-99cd-09dc90aef5d6",
   "metadata": {},
   "outputs": [
    {
     "name": "stdin",
     "output_type": "stream",
     "text": [
      "Enter time in hours and minutes: 12:45AM\n"
     ]
    },
    {
     "name": "stdout",
     "output_type": "stream",
     "text": [
      "12:45AM in 24-hours format: 00:45 Hours\n"
     ]
    }
   ],
   "source": [
    "'''\n",
    "Write a function that take 12 hours format and returns time in 24-hour format. \n",
    "Arguments of function (time-only hours and minutes, bool to represent AM or PM.)\n",
    "'''\n",
    "time = input('Enter time in hours and minutes:')\n",
    "if time[-2:] == 'AM':\n",
    "    flag = 1\n",
    "else:\n",
    "    flag = 0\n",
    "def time_con(hour,minutes,flag):\n",
    "    if flag:\n",
    "        if hour == 12:\n",
    "            time = '00' + minutes\n",
    "        else:\n",
    "            time = str(hour) + minutes\n",
    "        return time\n",
    "    else:\n",
    "        if hour == 12:\n",
    "            time = str(hour) + minutes\n",
    "        else:\n",
    "            time = str(hour+12) + minutes\n",
    "        return time\n",
    "print('{} in 24-hours format: {} Hours'.format(time, time_con(int(time[:2]),time[2:5],flag)))"
   ]
  },
  {
   "cell_type": "code",
   "execution_count": 19,
   "id": "13923c5f-ca7d-45f0-96cf-bc9168f508f4",
   "metadata": {},
   "outputs": [
    {
     "name": "stdout",
     "output_type": "stream",
     "text": [
      "Dictionary before update: {'Name': 'kiran', 'Age': 21}\n",
      "Dictionary after update: {'Name': 'kiran', 'Age': 21, 'Course': 'Data Science'}\n",
      "Dictionary updated: {'Name': 'kiran', 'Age': 21, 'Course': 'Data Science', 'Fee': 'paid'}\n"
     ]
    }
   ],
   "source": [
    "# Write a program to update dictionary.\n",
    "my_dict = {'Name':'kiran','Age':21}\n",
    "print('Dictionary before update:',my_dict)\n",
    "my_dict['Course']= 'Data Science'\n",
    "print('Dictionary after update:',my_dict)\n",
    "my_dict.update({'Fee':'paid'})\n",
    "print('Dictionary updated:',my_dict)"
   ]
  }
 ],
 "metadata": {
  "kernelspec": {
   "display_name": "Python 3 (ipykernel)",
   "language": "python",
   "name": "python3"
  },
  "language_info": {
   "codemirror_mode": {
    "name": "ipython",
    "version": 3
   },
   "file_extension": ".py",
   "mimetype": "text/x-python",
   "name": "python",
   "nbconvert_exporter": "python",
   "pygments_lexer": "ipython3",
   "version": "3.11.5"
  }
 },
 "nbformat": 4,
 "nbformat_minor": 5
}

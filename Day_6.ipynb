{
 "cells": [
  {
   "cell_type": "code",
   "execution_count": 1,
   "id": "47dec7fa-9fe7-48ee-b659-8f589fb05ea7",
   "metadata": {},
   "outputs": [
    {
     "name": "stdout",
     "output_type": "stream",
     "text": [
      "Dictionary: {'Name': 'Manoj', 'Age': 21, 'Marks': [92, 95, 87, 99, 82]}\n",
      "Keys of dictionary: dict_keys(['Name', 'Age', 'Marks'])\n",
      "Values of dictionary: dict_values(['Manoj', 21, [92, 95, 87, 99, 82]])\n"
     ]
    }
   ],
   "source": [
    "# Write a program to print keys and values of the dictionary.\n",
    "my_dict = {'Name':'Manoj','Age':21,'Marks':[92,95,87,99,82]}\n",
    "print('Dictionary:',my_dict)\n",
    "print('Keys of dictionary:',my_dict.keys())\n",
    "print('Values of dictionary:',my_dict.values())"
   ]
  },
  {
   "cell_type": "code",
   "execution_count": 3,
   "id": "fec4afba-0882-4ad7-9e60-16b51bb99efe",
   "metadata": {},
   "outputs": [
    {
     "name": "stdin",
     "output_type": "stream",
     "text": [
      "Enter a massage: Blue Whale\n"
     ]
    },
    {
     "name": "stdout",
     "output_type": "stream",
     "text": [
      "Message after encrypted: Dnwg\"Yjcng\n"
     ]
    }
   ],
   "source": [
    "'''\n",
    "Write a program to encode a secret message by replacing each character with another character where old char ASCII value is incremented by 2.\n",
    "Hint: new_char = char (old_char ASCII+2)\n",
    "'''\n",
    "message = input('Enter a massage:')\n",
    "encrypt = ''\n",
    "for i in message:\n",
    "    encrypt+=chr(ord(i)+2)\n",
    "print('Message after encrypted:',encrypt)"
   ]
  },
  {
   "cell_type": "code",
   "execution_count": 7,
   "id": "9a6fd954-ac2c-476a-bf8c-1f2e756b7b30",
   "metadata": {},
   "outputs": [
    {
     "name": "stdin",
     "output_type": "stream",
     "text": [
      "Enter start: 25\n",
      "Enter stop: 94\n"
     ]
    },
    {
     "name": "stdout",
     "output_type": "stream",
     "text": [
      "[25, 27, 29, 31, 33, 35, 37, 39, 41, 43, 45, 47, 49, 51, 53, 55, 57, 59, 61, 63, 65, 67, 69, 71, 73, 75, 77, 79, 81, 83, 85, 87, 89, 91, 93]\n"
     ]
    }
   ],
   "source": [
    "'''\n",
    "Write a program to take range of numbers and print elements of range by skipping two numbers after printing a number.\n",
    "Eg: if range is 10 to 21 then output is 10,13,16,19\n",
    "Hint: range (start, end, step)\n",
    "'''\n",
    "start , stop = int(input('Enter start:')), int(input('Enter stop:'))\n",
    "print(list(range(start,stop,2)))"
   ]
  },
  {
   "cell_type": "code",
   "execution_count": 8,
   "id": "df1091a1-ba70-48c8-a36f-76df316be71f",
   "metadata": {},
   "outputs": [
    {
     "name": "stdout",
     "output_type": "stream",
     "text": [
      "list before sorting: ['ravi', 'manoj', 'rachin', 'rinku', 'sanju']\n",
      "list after sorting: ['sanju', 'rinku', 'ravi', 'rachin', 'manoj']\n"
     ]
    }
   ],
   "source": [
    "# Write a program to sort the list of strings in reverse order.\n",
    "strings = ['ravi','manoj','rachin','rinku','sanju']\n",
    "print(\"list before sorting:\",strings)\n",
    "strings.sort(reverse=True)\n",
    "print('list after sorting:',strings)"
   ]
  },
  {
   "cell_type": "code",
   "execution_count": 13,
   "id": "fb929e87-3759-4c5a-881d-c502ca5ee131",
   "metadata": {},
   "outputs": [
    {
     "name": "stdout",
     "output_type": "stream",
     "text": [
      "Animals list: ['Dog', 'Cat', 'Monkey', 'Parrot', 'Rabbit']\n",
      "Random animal form list: Parrot\n"
     ]
    }
   ],
   "source": [
    "# Write a function that return a random item from list.\n",
    "import random\n",
    "animals= ['Dog','Cat','Monkey','Parrot','Rabbit']\n",
    "print('Animals list:',animals)\n",
    "print('Random animal form list:',random.choice(animals))"
   ]
  },
  {
   "cell_type": "code",
   "execution_count": 17,
   "id": "65dc94c3-25cb-4766-853f-44bb0a7d1a6f",
   "metadata": {},
   "outputs": [
    {
     "name": "stdin",
     "output_type": "stream",
     "text": [
      "Enter number: 291\n"
     ]
    },
    {
     "name": "stdout",
     "output_type": "stream",
     "text": [
      "Reverse of the number 291 is 192.\n"
     ]
    }
   ],
   "source": [
    "# Write a function that returns reverse of the number.\n",
    "def num_rev(num):\n",
    "    num = str(num)\n",
    "    num = num[::-1]\n",
    "    return int(num)\n",
    "number = int(input('Enter number:'))\n",
    "print('Reverse of the number {} is {}.'.format(number,num_rev(number)))"
   ]
  },
  {
   "cell_type": "code",
   "execution_count": 10,
   "id": "615e06c2-5168-460b-9774-0e9e8ddda124",
   "metadata": {},
   "outputs": [
    {
     "name": "stdin",
     "output_type": "stream",
     "text": [
      "Enter a number: 83\n"
     ]
    },
    {
     "name": "stdout",
     "output_type": "stream",
     "text": [
      "83 is a not a composite number!\n"
     ]
    }
   ],
   "source": [
    "# Write a program to check whether a number is composite or not.\n",
    "num = int(input('Enter a number:'))\n",
    "for i in range(2,(num//2+2)):\n",
    "    if not(num%i):\n",
    "        break\n",
    "if i < num//2+1:\n",
    "    print('{} is a composite number!'.format(num))\n",
    "else :\n",
    "    print('{} is a not a composite number!'.format(num))"
   ]
  },
  {
   "cell_type": "code",
   "execution_count": 14,
   "id": "778b0a0e-7468-4bd3-a0c9-e69f5d1eba19",
   "metadata": {},
   "outputs": [
    {
     "name": "stdin",
     "output_type": "stream",
     "text": [
      "Enter a number: 9\n"
     ]
    },
    {
     "name": "stdout",
     "output_type": "stream",
     "text": [
      "Sum of square of first 9 natural numbers is 285.\n"
     ]
    }
   ],
   "source": [
    "# Write a program to sum the squares of first n natural numbers.\n",
    "n = int(input('Enter a number:'))\n",
    "def sos(num = n):\n",
    "    sum = 0\n",
    "    for i in range(1,n+1):\n",
    "        sum+=(i*i)\n",
    "    return sum\n",
    "print('Sum of square of first {} natural numbers is {}.'.format(n,sos()))"
   ]
  },
  {
   "cell_type": "code",
   "execution_count": 16,
   "id": "de3f4ba6-e7d6-43db-ab33-ff134c2fb6ac",
   "metadata": {},
   "outputs": [
    {
     "name": "stdin",
     "output_type": "stream",
     "text": [
      "Enter a number: 153\n"
     ]
    },
    {
     "name": "stdout",
     "output_type": "stream",
     "text": [
      "153 is an Armstrong number!\n"
     ]
    }
   ],
   "source": [
    "'''\n",
    "Write a program to check whether a number is Armstrong or not.\n",
    "Armstong number: sum of cubes of digits of a number should be the same number.\n",
    "Eg: 153 where cube (1) + cube (5) + cube (3) = 153\n",
    "'''\n",
    "def armstrong(num):\n",
    "    sum = 0\n",
    "    for i in str(num):\n",
    "        sum+=(int(i)*int(i)*int(i))\n",
    "    if num == sum:\n",
    "        return print('{} is an Armstrong number!'.format(num))\n",
    "    else :\n",
    "        return print('{} is not an Armstrong number!'.format(num))\n",
    "        \n",
    "num = int(input('Enter a number:'))\n",
    "\n",
    "armstrong(num)"
   ]
  },
  {
   "cell_type": "code",
   "execution_count": 25,
   "id": "36612739-326e-4481-8fd6-f0c402c747d6",
   "metadata": {},
   "outputs": [
    {
     "name": "stdout",
     "output_type": "stream",
     "text": [
      "['MAC', 'Dell', 'HP', 'Asus', 'Lenovo']\n"
     ]
    }
   ],
   "source": [
    "# Write a program to shuffle the elements in list.\n",
    "import random\n",
    "\n",
    "brands = ['Dell','HP','MAC','Lenovo','Asus']\n",
    "random.shuffle(brands)\n",
    "print(brands)"
   ]
  }
 ],
 "metadata": {
  "kernelspec": {
   "display_name": "Python 3 (ipykernel)",
   "language": "python",
   "name": "python3"
  },
  "language_info": {
   "codemirror_mode": {
    "name": "ipython",
    "version": 3
   },
   "file_extension": ".py",
   "mimetype": "text/x-python",
   "name": "python",
   "nbconvert_exporter": "python",
   "pygments_lexer": "ipython3",
   "version": "3.11.5"
  }
 },
 "nbformat": 4,
 "nbformat_minor": 5
}

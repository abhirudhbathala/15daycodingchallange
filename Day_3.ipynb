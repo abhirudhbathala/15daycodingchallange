{
 "cells": [
  {
   "cell_type": "code",
   "execution_count": 1,
   "id": "0654ad7d-a0e2-488f-b91b-1db2942d6710",
   "metadata": {},
   "outputs": [
    {
     "name": "stdout",
     "output_type": "stream",
     "text": [
      "Enter a three digit number: 125\n"
     ]
    },
    {
     "name": "stdout",
     "output_type": "stream",
     "text": [
      "1\n",
      "2\n",
      "5\n"
     ]
    }
   ],
   "source": [
    "#Write a program to take 3-digit integer as input and print every digit of the number.\n",
    "num=int(input('Enter a three digit number:'))\n",
    "for i in str(num):\n",
    "    print(i)"
   ]
  },
  {
   "cell_type": "code",
   "execution_count": 2,
   "id": "9f8304cd-ae77-4596-9c7b-2ef0b92ea947",
   "metadata": {},
   "outputs": [
    {
     "name": "stdout",
     "output_type": "stream",
     "text": [
      "Artificial intelligence\n",
      "Machine Learning\n",
      "Deep Learning\n"
     ]
    }
   ],
   "source": [
    "# Write a program to print in three lines using one print statement.\n",
    "print('Artificial intelligence\\nMachine Learning\\nDeep Learning')"
   ]
  },
  {
   "cell_type": "code",
   "execution_count": 5,
   "id": "bb158fc7-e3b5-47ff-9584-4428159e07f6",
   "metadata": {},
   "outputs": [
    {
     "name": "stdout",
     "output_type": "stream",
     "text": [
      "Enter a sentence: python is easy to learn\n",
      "Enter a word: EASY\n"
     ]
    },
    {
     "name": "stdout",
     "output_type": "stream",
     "text": [
      "EASY is present in given sentence!\n"
     ]
    }
   ],
   "source": [
    "# Write a program to check whether a word is present in sentence or not.\n",
    "sentence=input('Enter a sentence:')\n",
    "word=input('Enter a word:')\n",
    "if word.lower() in sentence.lower():\n",
    "    print('{} is present in given sentence!'.format(word))\n",
    "else:\n",
    "    print('{} is not present in given sentence!'.format(word))"
   ]
  },
  {
   "cell_type": "code",
   "execution_count": 7,
   "id": "5fcf1b77-860e-4f6b-ad93-b5c2d5d5b62b",
   "metadata": {},
   "outputs": [
    {
     "name": "stdout",
     "output_type": "stream",
     "text": [
      "Set-A: {2, 3, 5, 8, 9}\n",
      "Set-B: {1, 2, 4, 6, 9}\n",
      "Union: {1, 2, 3, 4, 5, 6, 8, 9}\n",
      "Intersection: {9, 2}\n"
     ]
    }
   ],
   "source": [
    "# Write to program to print union and intersection of two sets.\n",
    "set1={2,3,5,9,8}\n",
    "set2={9,1,4,6,2}\n",
    "print('Set-A:',set1)\n",
    "print('Set-B:',set2)\n",
    "print('Union:',set1.union(set2))\n",
    "print('Intersection:',set1.intersection(set2))"
   ]
  },
  {
   "cell_type": "code",
   "execution_count": 10,
   "id": "bff59521-f73a-46cc-a798-4b5b91968c62",
   "metadata": {},
   "outputs": [
    {
     "name": "stdout",
     "output_type": "stream",
     "text": [
      "List: ['M', 'a', 'c', 'h', 'i', 'n', 'e']\n",
      "String made from list: Machine\n"
     ]
    }
   ],
   "source": [
    "# Write a python program to convert list into string.\n",
    "alpha=['M','a','c','h','i','n','e']\n",
    "print('List:',alpha)\n",
    "string=''\n",
    "for i in alpha:\n",
    "    string+=i\n",
    "print('String made from list:',string)"
   ]
  },
  {
   "cell_type": "code",
   "execution_count": 15,
   "id": "d064530a-1e5a-4665-be52-a9e3ddb96436",
   "metadata": {},
   "outputs": [
    {
     "name": "stdout",
     "output_type": "stream",
     "text": [
      "Five lucky customers are: [78, 75, 83, 74, 92, 79]\n"
     ]
    }
   ],
   "source": [
    "# Write a program to select 5 lucky customers randomly from customers numbered 1 to 100.\n",
    "import random\n",
    "lucky=[]\n",
    "while len(lucky)<=5:\n",
    "    temp=random.randint(1,100,)\n",
    "    if temp not in lucky:\n",
    "        lucky.append(temp)\n",
    "    else:\n",
    "        continue\n",
    "print('Five lucky customers are:',lucky)"
   ]
  },
  {
   "cell_type": "code",
   "execution_count": 20,
   "id": "cfee88d2-4559-48ef-ab03-a993f972a292",
   "metadata": {},
   "outputs": [
    {
     "name": "stdout",
     "output_type": "stream",
     "text": [
      "Enter lower limit: 10\n",
      "Enter upper limit: 25\n"
     ]
    },
    {
     "name": "stdout",
     "output_type": "stream",
     "text": [
      "The sum of odd numbers:144\n",
      "The sum of even number:136\n"
     ]
    }
   ],
   "source": [
    "# Write a function to return sum of even numbers and odd numbers between a range\n",
    "def sum_range(l,u):\n",
    "    odd=0\n",
    "    even=0\n",
    "    for i in range(l,u+1):\n",
    "        if i%2:\n",
    "            odd+=i\n",
    "        else:\n",
    "            even+=i\n",
    "    return odd,even\n",
    "lower=int(input('Enter lower limit:'))\n",
    "upper=int(input('Enter upper limit:'))\n",
    "odd,even=sum_range(lower,upper)\n",
    "print('The sum of odd numbers:{}\\nThe sum of even number:{}'.format(odd,even))"
   ]
  },
  {
   "cell_type": "code",
   "execution_count": 22,
   "id": "d3d0cab8-a527-4fe8-99a4-1b6fe54c9472",
   "metadata": {},
   "outputs": [
    {
     "name": "stdout",
     "output_type": "stream",
     "text": [
      "Enter a number: 23415\n"
     ]
    },
    {
     "name": "stdout",
     "output_type": "stream",
     "text": [
      "The total number of digits in 23415 is 5\n"
     ]
    }
   ],
   "source": [
    "# Write a function that returns no of digits in number.\n",
    "def length(n):\n",
    "    return len(str(n))\n",
    "num=int(input('Enter a number:'))\n",
    "print('The total number of digits in {} is {}'.format(num,length(num)))"
   ]
  },
  {
   "cell_type": "code",
   "execution_count": 24,
   "id": "082aa92b-1978-455e-98ee-71b9a6fe94db",
   "metadata": {},
   "outputs": [
    {
     "name": "stdout",
     "output_type": "stream",
     "text": [
      "List: ['ravi', 'manoj', 'kiran', 'ravi', 'kiran']\n",
      "List after removing duplicate elements: ['manoj', 'kiran', 'ravi']\n"
     ]
    }
   ],
   "source": [
    "# Write a program to remove duplicates in list.\n",
    "lst=['ravi','manoj','kiran','ravi','kiran']\n",
    "print('List:',lst)\n",
    "print('List after removing duplicate elements:',list(set(lst)))"
   ]
  },
  {
   "cell_type": "code",
   "execution_count": 25,
   "id": "8743eb23-33b1-4f02-b275-0ec61fb9b07b",
   "metadata": {},
   "outputs": [
    {
     "name": "stdout",
     "output_type": "stream",
     "text": [
      "Enter a sentence: Python is general purpouse high level language.\n"
     ]
    },
    {
     "name": "stdout",
     "output_type": "stream",
     "text": [
      "Total number of words in sentence is 7\n"
     ]
    }
   ],
   "source": [
    "# Write a program to find number of words in sentence.\n",
    "sentence=input('Enter a sentence:')\n",
    "print('Total number of words in sentence is',len(sentence.split()))"
   ]
  }
 ],
 "metadata": {
  "kernelspec": {
   "display_name": "Python 3 (ipykernel)",
   "language": "python",
   "name": "python3"
  },
  "language_info": {
   "codemirror_mode": {
    "name": "ipython",
    "version": 3
   },
   "file_extension": ".py",
   "mimetype": "text/x-python",
   "name": "python",
   "nbconvert_exporter": "python",
   "pygments_lexer": "ipython3",
   "version": "3.11.5"
  }
 },
 "nbformat": 4,
 "nbformat_minor": 5
}

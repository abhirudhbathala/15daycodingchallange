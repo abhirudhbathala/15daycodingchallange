{
 "cells": [
  {
   "cell_type": "code",
   "execution_count": 6,
   "id": "31fbb2b5-6872-47d7-a44b-69da54be686c",
   "metadata": {},
   "outputs": [
    {
     "name": "stdout",
     "output_type": "stream",
     "text": [
      "List of numbers: [12, 19, 14, 15, 17]\n",
      "Second largest element of the list is 17.\n"
     ]
    }
   ],
   "source": [
    "# write a program to find second largest number in the list.\n",
    "nums=[12,19,14,15,17]\n",
    "print('List of numbers:',nums)\n",
    "nums.sort()\n",
    "second = nums[-2]\n",
    "print('Second largest element of the list is {}.'.format(second))"
   ]
  },
  {
   "cell_type": "code",
   "execution_count": 9,
   "id": "869a75a5-761d-4667-ab81-f04918cd0ef2",
   "metadata": {},
   "outputs": [
    {
     "name": "stdout",
     "output_type": "stream",
     "text": [
      "list before sorting: [24, 32, 19, 45, 89, 72, 84, 92, 61, 55]\n"
     ]
    },
    {
     "name": "stdin",
     "output_type": "stream",
     "text": [
      "Enter N-value: 7\n"
     ]
    },
    {
     "name": "stdout",
     "output_type": "stream",
     "text": [
      "list after sorting: [92, 89, 84, 72, 61, 55, 45, 32, 24, 19]\n",
      "7-largest element in the list is 45\n"
     ]
    }
   ],
   "source": [
    "# Write a program to find n-th largest element of the list\n",
    "nums=[24,32,19,45,89,72,84,92,61,55]\n",
    "print('list before sorting:',nums)\n",
    "nums.sort(reverse=True)\n",
    "n_value=int(input('Enter N-value:'))\n",
    "n_largest=nums[n_value-1]\n",
    "print('list after sorting:',nums)\n",
    "print(\"{}-largest element in the list is {}\".format(n_value,n_largest))"
   ]
  },
  {
   "cell_type": "code",
   "execution_count": 15,
   "id": "682f5e38-c772-41ec-887d-2077bd5f3293",
   "metadata": {},
   "outputs": [
    {
     "name": "stdout",
     "output_type": "stream",
     "text": [
      "List: [23, 18, 21, 42, 17, 22, 33, 54, 61, 92]\n",
      "list of even numbers: [18, 42, 22, 54, 92]\n"
     ]
    }
   ],
   "source": [
    "# write a program to print even numbers in the list\n",
    "nums=[23,18,21,42,17,22,33,54,61,92]\n",
    "print('List:',nums)\n",
    "fun = lambda x: None if x%2 else x\n",
    "even_nums=list(filter(fun,nums))\n",
    "print('list of even numbers:',even_nums)"
   ]
  },
  {
   "cell_type": "code",
   "execution_count": 21,
   "id": "df4b6833-696e-485e-856c-4ee05c8f2cc0",
   "metadata": {},
   "outputs": [
    {
     "name": "stdin",
     "output_type": "stream",
     "text": [
      "Enter no of elments to be stored in list: 3\n",
      "Enter a word: a\n",
      "Enter a word: b\n",
      "Enter a word: c\n"
     ]
    },
    {
     "name": "stdout",
     "output_type": "stream",
     "text": [
      "List created: ['a', 'b', 'c']\n",
      "Location of orginal list: 1665710604544\n",
      "cloned_list: ['a', 'b', 'c']\n",
      "Location of cloned list: 1665710607744\n"
     ]
    }
   ],
   "source": [
    "# Write a python program to cloning or copying a list\n",
    "orginal = []\n",
    "for i in range(int(input('Enter no of elments to be stored in list:'))):\n",
    "    orginal.append(input(\"Enter a word:\"))\n",
    "clone = orginal.copy()\n",
    "print('List created:',orginal)\n",
    "print('Location of orginal list:',id(orginal))\n",
    "print('cloned_list:',clone)\n",
    "print('Location of cloned list:',id(clone))"
   ]
  },
  {
   "cell_type": "code",
   "execution_count": 29,
   "id": "43bffc26-7bc6-4bb4-a8c0-c9ca6c976415",
   "metadata": {},
   "outputs": [
    {
     "name": "stdin",
     "output_type": "stream",
     "text": [
      "Enter a sentence: Statistic is Component of DataScience\n",
      "Enter a length: 7\n"
     ]
    },
    {
     "name": "stdout",
     "output_type": "stream",
     "text": [
      "Words in the sentences greater 7-characters:\n",
      "Statistic\n",
      "Component\n",
      "DataScience\n"
     ]
    }
   ],
   "source": [
    "# Write a program to find words which greater than length-k\n",
    "sentence = input('Enter a sentence:')\n",
    "words = sentence.strip().split()\n",
    "length = int(input('Enter a length:'))\n",
    "print('Words in the sentences greater {}-characters:'.format(length))\n",
    "for i in words:\n",
    "    if len(i)>length:\n",
    "        print(i)"
   ]
  },
  {
   "cell_type": "code",
   "execution_count": 31,
   "id": "3a77a8ce-a4bf-435e-9977-e746fec2bf0a",
   "metadata": {},
   "outputs": [
    {
     "name": "stdin",
     "output_type": "stream",
     "text": [
      "Enter a string: Mobile\n"
     ]
    },
    {
     "name": "stdout",
     "output_type": "stream",
     "text": [
      "Mobile after removing 'i' is Moble.\n"
     ]
    }
   ],
   "source": [
    "# Write a python program to revome character 'i' from a string\n",
    "string=input('Enter a string:')\n",
    "new_str = ''\n",
    "if 'i' in string:\n",
    "    for i in string:\n",
    "        if i != 'i':\n",
    "            new_str+=i\n",
    "    print(\"{} after removing 'i' is {}.\".format(string,new_str))\n",
    "else:\n",
    "    print(\"{} does not contain 'i'.\".format(word))"
   ]
  },
  {
   "cell_type": "code",
   "execution_count": 33,
   "id": "01ae27d3-783f-4869-9e5f-3b584c024233",
   "metadata": {},
   "outputs": [
    {
     "name": "stdin",
     "output_type": "stream",
     "text": [
      "Enter a string 1001010101\n"
     ]
    },
    {
     "name": "stdout",
     "output_type": "stream",
     "text": [
      "1001010101 is a binary string!\n"
     ]
    }
   ],
   "source": [
    "# Write a program to find a given string is binary string or not\n",
    "string = input('Enter a string')\n",
    "flag = True\n",
    "for i in string:\n",
    "    if i in ['0' , '1']:\n",
    "        continue\n",
    "    else:\n",
    "        print('{} is not a binary string!'.fromat(string))\n",
    "        flag = False\n",
    "        break\n",
    "if flag:\n",
    "    print('{} is a binary string!'.format(string))"
   ]
  },
  {
   "cell_type": "code",
   "execution_count": 40,
   "id": "ccbcc6b9-8c73-4d21-a343-bb5a344457a8",
   "metadata": {},
   "outputs": [
    {
     "name": "stdin",
     "output_type": "stream",
     "text": [
      "Enter a sentence: ML is subset of AI\n",
      "Enter another sentence: AI is superset of ML\n"
     ]
    },
    {
     "name": "stdout",
     "output_type": "stream",
     "text": [
      "The uncommon words of two sentences are: {'superset', 'subset'}\n"
     ]
    }
   ],
   "source": [
    "# Write a program to find uncommon words of two string.\n",
    "sentence_1 =input('Enter a sentence:')\n",
    "sentence_2 = input('Enter another sentence:')\n",
    "set1 = set(sentence_1.strip().split())\n",
    "set2 = set(sentence_2.strip().split())\n",
    "intersection = set1.intersection(set2)\n",
    "uncommon1 = set1.difference(set2)\n",
    "uncommon2 = set2.difference(set1)\n",
    "uncommon = uncommon1.union(uncommon2)\n",
    "print('The uncommon words of two sentences are:',uncommon)"
   ]
  },
  {
   "cell_type": "code",
   "execution_count": 45,
   "id": "7ab97ce3-452d-4be2-aa13-536d68de81f7",
   "metadata": {},
   "outputs": [
    {
     "name": "stdin",
     "output_type": "stream",
     "text": [
      "Enter a string: railway station\n"
     ]
    },
    {
     "name": "stdout",
     "output_type": "stream",
     "text": [
      "The duplicate element of string-'railway station' is {'i', 't', 'a'}.\n"
     ]
    }
   ],
   "source": [
    "# write a program to print duplicate elements of string\n",
    "string = input('Enter a string:')\n",
    "letters = [i for i in string]\n",
    "letter_set=set(i for i in string)\n",
    "for i in letter_set:\n",
    "    letters.remove(i)\n",
    "print(\"The duplicate element of string-'{}' is {}.\".format(string,set(letters)))"
   ]
  },
  {
   "cell_type": "code",
   "execution_count": 48,
   "id": "fd9bba2b-2e06-41be-b806-e0f370c9d50b",
   "metadata": {},
   "outputs": [
    {
     "name": "stdin",
     "output_type": "stream",
     "text": [
      "Enter a string: #ipl\n"
     ]
    },
    {
     "name": "stdout",
     "output_type": "stream",
     "text": [
      "#ipl contains special character.\n"
     ]
    }
   ],
   "source": [
    "# Write a python program to check whether a string has special character.\n",
    "string = input('Enter a string:')\n",
    "flag = False\n",
    "for i in string:\n",
    "    if i.isalnum():\n",
    "        continue\n",
    "    else:\n",
    "        flag = True\n",
    "        break\n",
    "if flag:\n",
    "    print(\"{} contains special character.\".format(string))\n",
    "else: \n",
    "    print(\"{} doesn't contain special character.\".format(string))"
   ]
  }
 ],
 "metadata": {
  "kernelspec": {
   "display_name": "Python 3 (ipykernel)",
   "language": "python",
   "name": "python3"
  },
  "language_info": {
   "codemirror_mode": {
    "name": "ipython",
    "version": 3
   },
   "file_extension": ".py",
   "mimetype": "text/x-python",
   "name": "python",
   "nbconvert_exporter": "python",
   "pygments_lexer": "ipython3",
   "version": "3.11.5"
  }
 },
 "nbformat": 4,
 "nbformat_minor": 5
}

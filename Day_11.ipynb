{
 "cells": [
  {
   "cell_type": "code",
   "execution_count": 5,
   "id": "83d3f96e-457a-4e47-8431-ccea9481de63",
   "metadata": {},
   "outputs": [
    {
     "name": "stdout",
     "output_type": "stream",
     "text": [
      "1075.0\n"
     ]
    }
   ],
   "source": [
    "'''\n",
    "Write a function to return amount of electricity bill by taking no of units consumed.\n",
    "Where the slab rates are:\n",
    "-\t1 to 100 units – Rs. 1.0/unit\n",
    "-\t100 to 200 units – Rs. 1.5/unit\n",
    "-\t200 to 300 units – Rs. 2.0/unit\n",
    "-\tabove 300 units – Rs. 2.5/unit\n",
    "'''\n",
    "def bill(units):\n",
    "    if units <= 100:\n",
    "        return units*1\n",
    "    elif units <=200:\n",
    "        temp = units - 100\n",
    "        return (100*1) + (temp*1.5)\n",
    "    elif units <= 300:\n",
    "        temp = units - 200\n",
    "        return (100*1) + (100*1.5) + (temp*2)\n",
    "    else:\n",
    "        temp = units - 300\n",
    "        return (100*1) + (100*1.5) + (100*2) + (temp * 2.5)\n",
    "print(bill(550))"
   ]
  },
  {
   "cell_type": "code",
   "execution_count": 9,
   "id": "e0506cb3-0aaa-4bb3-9dd4-dfaafab22018",
   "metadata": {},
   "outputs": [
    {
     "name": "stdout",
     "output_type": "stream",
     "text": [
      "Students: {'kiran': [30, 21], 'Manoj': [45, 32], 'Ajay': [31, 18], 'Hari': [50, 10], 'Ramesh': [42, 37]}\n",
      "Students passed in course: ['kiran', 'Manoj', 'Ramesh']\n"
     ]
    }
   ],
   "source": [
    "'''\n",
    "A course contains internal assessment of 50 marks and external assessment of 50 each. A student to be passed in the course has to secure at least 30 marks in internal assessment and greater than 20 marks in external assessment.  \n",
    "A dictionary contains the student names as keys and list of internal and external assessment marks as values.\n",
    "Write a program to print the list of students who have passed the exam.\n",
    "'''\n",
    "students = {'kiran':[30,21], 'Manoj':[45,32], 'Ajay':[31,18], 'Hari':[50,10], 'Ramesh':[42,37]}\n",
    "passed = []\n",
    "for i in students:\n",
    "    if students[i][0] >= 30 and students[i][1] > 20:\n",
    "        passed.append(i)\n",
    "print('Students:',students)\n",
    "print('Students passed in course:',passed)"
   ]
  },
  {
   "cell_type": "code",
   "execution_count": 12,
   "id": "6dd57b93-bcec-4298-8272-76d92ff0dfb4",
   "metadata": {},
   "outputs": [
    {
     "name": "stdout",
     "output_type": "stream",
     "text": [
      "Short_listed applicants: ['A', 'B', 'C', 'D', 'E', 'F', 'G', 'H', 'I', 'J']\n",
      "Team_Positvie: ['C', 'D', 'E', 'G', 'I']\n",
      "Team_negative: ['B', 'H', 'A', 'F', 'J']\n"
     ]
    }
   ],
   "source": [
    "'''\n",
    "In a debate there are two team - positive, negative :\n",
    "Ten applicants ['A', 'B', 'C', 'D', 'E', 'F', 'G', 'H', 'I', 'J'] are shortlisted for the interview.\n",
    "randomly select five applicants for each team.\n",
    "'''\n",
    "import random\n",
    "applicants = ['A', 'B', 'C', 'D', 'E', 'F', 'G', 'H', 'I', 'J']\n",
    "positive = applicants[:]\n",
    "negative = []\n",
    "for i in range(5):\n",
    "    temp = random.choice(positive)\n",
    "    negative.append(temp)\n",
    "    positive.remove(temp)\n",
    "print('Short_listed applicants:',applicants)\n",
    "print('Team_Positvie:',positive)\n",
    "print('Team_negative:',negative)"
   ]
  },
  {
   "cell_type": "code",
   "execution_count": 19,
   "id": "af579c1c-7c08-46e9-b327-426eed6fe077",
   "metadata": {},
   "outputs": [
    {
     "name": "stdin",
     "output_type": "stream",
     "text": [
      "Enter a number: 5\n"
     ]
    },
    {
     "name": "stdout",
     "output_type": "stream",
     "text": [
      "factorial of 5 is 120.\n"
     ]
    }
   ],
   "source": [
    "# Write a function to return factorial of number using recursion defined by lambda function.\n",
    "fact = lambda num: 1 if num == 1 else num*fact(num-1)\n",
    "num = int(input('Enter a number:'))\n",
    "print('factorial of {} is {}.'.format(num,fact(num)))"
   ]
  },
  {
   "cell_type": "code",
   "execution_count": 23,
   "id": "54c5413e-3a47-41e5-8562-1547425a9271",
   "metadata": {},
   "outputs": [
    {
     "name": "stdin",
     "output_type": "stream",
     "text": [
      "Enter a string with special characters: #ipl2024\n"
     ]
    },
    {
     "name": "stdout",
     "output_type": "stream",
     "text": [
      "ipl2024 is formed by removing special characters from #ipl2024.\n"
     ]
    }
   ],
   "source": [
    "# Write a function to take string with special characters and return a string without containing special characters.\n",
    "string = input('Enter a string with special characters:')\n",
    "def remove_spl(string):\n",
    "    temp = ''\n",
    "    for i in string:\n",
    "        if i.isalnum():\n",
    "            temp += i\n",
    "    return temp\n",
    "print('{} is formed by removing special characters from {}.'.format(remove_spl(string),string))"
   ]
  },
  {
   "cell_type": "code",
   "execution_count": 25,
   "id": "5ce144f9-0925-464b-a27a-23fcc07b7855",
   "metadata": {},
   "outputs": [
    {
     "name": "stdin",
     "output_type": "stream",
     "text": [
      "Enter a string: #python_programming\n"
     ]
    },
    {
     "name": "stdout",
     "output_type": "stream",
     "text": [
      "Orderd string of #python_programming through ASCII values is #_agghimmnnoopprrty.\n"
     ]
    }
   ],
   "source": [
    "'''\n",
    "Write a program to arrange the character of string in ascending order of their ASCII values.\n",
    "Hint: form a list of ASCII values of characters in string and sort that list. And make string by that list.\n",
    "'''\n",
    "string = input('Enter a string:')\n",
    "asciis = []\n",
    "ordstr = ''\n",
    "for i in string:\n",
    "    asciis.append(ord(i))\n",
    "asciis.sort()\n",
    "for i in asciis:\n",
    "    ordstr += chr(i)\n",
    "print('Orderd string of {} through ASCII values is {}.'.format(string, ordstr))"
   ]
  },
  {
   "cell_type": "code",
   "execution_count": 27,
   "id": "0d673aad-54f5-4582-9c98-777ce5ed08ab",
   "metadata": {},
   "outputs": [
    {
     "name": "stdout",
     "output_type": "stream",
     "text": [
      "List: [21, 92, 81, 99, 12, 72, 55, 34, 41, 65]\n",
      "Maximum_element:99\tMinimum_element:12\n",
      "Difference between maximum and minimum element: 87\n"
     ]
    }
   ],
   "source": [
    "# write a program to find difference(subtraction) between maximum and minimum element of list.\n",
    "nums = [21, 92, 81, 99, 12 ,72, 55, 34, 41, 65]\n",
    "minimum = min(nums)\n",
    "maximum = max(nums)\n",
    "print('List:',nums)\n",
    "print('Maximum_element:{}\\tMinimum_element:{}'.format(maximum,minimum))\n",
    "print('Difference between maximum and minimum element:',maximum - minimum)"
   ]
  },
  {
   "cell_type": "code",
   "execution_count": 37,
   "id": "6050600f-5f43-47fb-8092-d25ba7343582",
   "metadata": {},
   "outputs": [
    {
     "name": "stdout",
     "output_type": "stream",
     "text": [
      "Actual_list: [21, 19, 10, 35, 90]\n",
      "Rounded_list: [20, 20, 10, 40, 90]\n"
     ]
    }
   ],
   "source": [
    "'''\n",
    "Write a function to take list of numbers and round-off to nearest ten.\n",
    "Example: \tinput: [25, 31, 79, 44, 88]\n",
    "    \t\tOutput:[30, 30, 80, 40, 90]\n",
    "'''\n",
    "def round(nums):\n",
    "    for i in range(len(nums)):\n",
    "        if nums[i]%10 < 5:\n",
    "            nums[i] -= nums[i]%10\n",
    "        else:\n",
    "            nums[i] += 10 - nums[i]%10\n",
    "    return nums\n",
    "numbers = [21,19,10,35,90]\n",
    "print('Actual_list:',numbers)\n",
    "print('Rounded_list:',round(numbers))"
   ]
  },
  {
   "cell_type": "code",
   "execution_count": 46,
   "id": "984e7520-cfb5-4130-b64e-dd61b8b74826",
   "metadata": {},
   "outputs": [
    {
     "name": "stdout",
     "output_type": "stream",
     "text": [
      "Matrix: [[2, 4], [3, 1]]\n",
      "Determinant of matrix: -10\n"
     ]
    }
   ],
   "source": [
    "# write a function to retrun the determinat of 2-D matrix\n",
    "def det(mat):\n",
    "    return (mat[0][0]*mat[1][1]) - (mat[0][1]*mat[1][0])\n",
    "matrix = [[2,4],\n",
    "          [3,1]]\n",
    "print('Matrix:',matrix)\n",
    "print('Determinant of matrix:',det(matrix))"
   ]
  },
  {
   "cell_type": "code",
   "execution_count": 60,
   "id": "b884f863-7fbf-4dc1-ae08-0285a16da9ee",
   "metadata": {},
   "outputs": [
    {
     "name": "stdin",
     "output_type": "stream",
     "text": [
      "Enter number-a: 20\n",
      "Enter number-b: 124\n"
     ]
    },
    {
     "name": "stdout",
     "output_type": "stream",
     "text": [
      "GCD of 20 and 124 is 4.\n"
     ]
    }
   ],
   "source": [
    "# Write a program to find greatest common divisor of two numbers.\n",
    "a, b = int(input('Enter number-a:')), int(input('Enter number-b:'))\n",
    "def gcd(a,b):\n",
    "    temp = min(a,b)\n",
    "    while True :\n",
    "        if a%temp==0 and b%temp==0:\n",
    "            break\n",
    "        else:\n",
    "            temp-=1\n",
    "    return temp\n",
    "print('GCD of {} and {} is {}.'.format(a,b,gcd(a,b)))"
   ]
  }
 ],
 "metadata": {
  "kernelspec": {
   "display_name": "Python 3 (ipykernel)",
   "language": "python",
   "name": "python3"
  },
  "language_info": {
   "codemirror_mode": {
    "name": "ipython",
    "version": 3
   },
   "file_extension": ".py",
   "mimetype": "text/x-python",
   "name": "python",
   "nbconvert_exporter": "python",
   "pygments_lexer": "ipython3",
   "version": "3.11.5"
  }
 },
 "nbformat": 4,
 "nbformat_minor": 5
}

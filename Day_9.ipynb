{
 "cells": [
  {
   "cell_type": "code",
   "execution_count": 2,
   "id": "dccef8df-ed1c-41e3-8eeb-484015fa315c",
   "metadata": {},
   "outputs": [
    {
     "name": "stdin",
     "output_type": "stream",
     "text": [
      "Enter  userid : dummy\n",
      "Enter password : 1234\n"
     ]
    },
    {
     "name": "stdout",
     "output_type": "stream",
     "text": [
      "raising Error!\n"
     ]
    },
    {
     "ename": "Exception",
     "evalue": "Invalid credentials!",
     "output_type": "error",
     "traceback": [
      "\u001b[1;31m---------------------------------------------------------------------------\u001b[0m",
      "\u001b[1;31mException\u001b[0m                                 Traceback (most recent call last)",
      "Cell \u001b[1;32mIn[2], line 12\u001b[0m\n\u001b[0;32m     10\u001b[0m \u001b[38;5;28;01melse\u001b[39;00m :\n\u001b[0;32m     11\u001b[0m     \u001b[38;5;28mprint\u001b[39m(\u001b[38;5;124m'\u001b[39m\u001b[38;5;124mraising Error!\u001b[39m\u001b[38;5;124m'\u001b[39m)\n\u001b[1;32m---> 12\u001b[0m     \u001b[38;5;28;01mraise\u001b[39;00m \u001b[38;5;167;01mException\u001b[39;00m(\u001b[38;5;124m'\u001b[39m\u001b[38;5;124mInvalid credentials!\u001b[39m\u001b[38;5;124m'\u001b[39m)\n",
      "\u001b[1;31mException\u001b[0m: Invalid credentials!"
     ]
    }
   ],
   "source": [
    "'''\n",
    "Write a program to take user-id and password, if it doesn’t match to default data raise an error displaying message: ‘Invalid-Credentials’.\n",
    "If credentials are valid display message ‘Home-page’.\n",
    "'''\n",
    "accounts = [('admin','1234'),('dummy','2024'),('user','1111')]\n",
    "name = input('Enter  userid :')\n",
    "password = input('Enter password :')\n",
    "if (name, password) in accounts:\n",
    "    print(\"HOME-PAGE!\")\n",
    "else :\n",
    "    print('raising Error!')\n",
    "    raise Exception('Invalid credentials!')"
   ]
  },
  {
   "cell_type": "code",
   "execution_count": 14,
   "id": "071a903a-e15a-4729-9fbf-cfb1b830f0fc",
   "metadata": {},
   "outputs": [
    {
     "name": "stdout",
     "output_type": "stream",
     "text": [
      "Passanger1-Details:\n",
      "Name: Ravi\n",
      "Age: 19\n",
      "Fare:250\n",
      "Passanger2-Details:\n",
      "Name: Manoj\n",
      "Age: 21\n",
      "Fare:250\n",
      "Passanger3-Details:\n",
      "Name: sheker\n",
      "Age: 65\n",
      "Fare:225.0\n",
      "Grand - Total: 725.0\n"
     ]
    }
   ],
   "source": [
    "'''\n",
    "Write a program to create class Ticket:\n",
    "-\tConstruct object by taking keyword argument.\n",
    "-\tCreate a method to display passenger-details.\n",
    "-\tDefine a method to show total fare.\n",
    "-\tConcession of 10% is given for senior citizen.\n",
    "-\tDisplay passenger details along fair and grand total.\n",
    "Hint: object = Ticket (person-A = 21, person-B = 24, person-c = 65)\n",
    "'''\n",
    "class Ticket():\n",
    "    def __init__(self,**kwargs):\n",
    "        self.pngrs = kwargs\n",
    "        self.fare = 250\n",
    "    def total_fare(self):\n",
    "        total = 0\n",
    "        for i in self.pngrs:\n",
    "            if self.pngrs[i] <60:\n",
    "                total+=self.fare\n",
    "            else:\n",
    "                total+= self.fare*0.9\n",
    "        return total\n",
    "    def show(self):\n",
    "        count = 1\n",
    "        for i in self.pngrs:\n",
    "            print('Passanger{}-Details:'.format(count))\n",
    "            print('Name:',i)\n",
    "            print('Age:',self.pngrs[i])\n",
    "            print('Fare:{}'.format(self.fare if self.pngrs[i]<60 else self.fare*0.9))\n",
    "            count+=1\n",
    "        print('Grand - Total:',self.total_fare())\n",
    "\n",
    "obj = Ticket(Ravi=19, Manoj=21, sheker=65)\n",
    "obj.show()"
   ]
  },
  {
   "cell_type": "code",
   "execution_count": 67,
   "id": "4b904128-6939-4124-8deb-33ccd95d2089",
   "metadata": {},
   "outputs": [
    {
     "name": "stdin",
     "output_type": "stream",
     "text": [
      "Enter a strong password: Kiran\n",
      "Enter a strong password: 12345\n",
      "Enter a strong password: @123$45#\n",
      "Enter a strong password: @1ABC\n"
     ]
    },
    {
     "name": "stdout",
     "output_type": "stream",
     "text": [
      "Your password is strong!\n"
     ]
    }
   ],
   "source": [
    "'''\n",
    "Write a program to ask for strong password until user give strong password by using do-while loop. \n",
    "A strong password should contain letter, number and special symbol.\n",
    "'''\n",
    "def check(string):\n",
    "    chr = False\n",
    "    dig = False\n",
    "    spl = False\n",
    "    for i in string:\n",
    "        if i.isalpha():\n",
    "            chr = True\n",
    "        elif i.isdigit():\n",
    "            dig = True\n",
    "        else:\n",
    "            spl = True\n",
    "    if chr and dig and spl:\n",
    "        return True\n",
    "    else:\n",
    "        return False\n",
    "while True:\n",
    "    flag = False\n",
    "    password = input('Enter a strong password:')\n",
    "    while (check(password)):\n",
    "        print('Your password is strong!')\n",
    "        flag = True\n",
    "        break\n",
    "    if flag:\n",
    "        break"
   ]
  },
  {
   "cell_type": "code",
   "execution_count": 50,
   "id": "b3e9e1d9-6a72-48ed-ab1c-bc52846b01d7",
   "metadata": {},
   "outputs": [
    {
     "name": "stdout",
     "output_type": "stream",
     "text": [
      "Numbers_list: [45, 23, 67, 23, 93, 34, 23, 89, 12]\n",
      "list in ascending order: [12, 23, 23, 23, 34, 45, 67, 89, 93]\n",
      "Print Median of the list is 34.0.\n"
     ]
    }
   ],
   "source": [
    "'''\n",
    "Write a program to find median of list.\n",
    "Eg: \tinput: [1, 2, 3, 4, 5]\t\n",
    "        output: 3\n",
    "        input: [1, 2, 3, 4, 5, 6, 7, 8, 9, 10]\n",
    "        output: 5.5 ((5+6)/2)\n",
    "'''\n",
    "nums = [45,23,67,23,93,34,23,89,12]\n",
    "sort_nums = sorted(nums)\n",
    "length = len(nums)\n",
    "n = (len(nums)//2)\n",
    "if length%2:\n",
    "    median = float(sort_nums[n])\n",
    "else: \n",
    "    median = (sort_nums[n-1]+sort_nums[n])/2\n",
    "print('Numbers_list:',nums)\n",
    "print('list in ascending order:',sort_nums)\n",
    "print('Print Median of the list is {}.'.format(median))"
   ]
  },
  {
   "cell_type": "code",
   "execution_count": 64,
   "id": "c7d75aee-1d47-4976-a342-e4fecd6011c0",
   "metadata": {},
   "outputs": [
    {
     "name": "stdin",
     "output_type": "stream",
     "text": [
      "Enter a binary number: 1111\n"
     ]
    },
    {
     "name": "stdout",
     "output_type": "stream",
     "text": [
      "The decimal representation of 1111 is 15.\n"
     ]
    }
   ],
   "source": [
    "# Write a function to take 4-bit binary number as parameter and return integer formed by binary number.\n",
    "binary_string = input('Enter a binary number:')\n",
    "def binary(string):\n",
    "    temp = 0\n",
    "    for i in range(4):\n",
    "        if string[-(i+1)] == '1':\n",
    "            temp += (2**i)\n",
    "    return temp\n",
    "decimal = binary(binary_string)\n",
    "print('The decimal representation of {} is {}.'.format(binary_string, decimal))"
   ]
  },
  {
   "cell_type": "code",
   "execution_count": 73,
   "id": "42cc0913-d155-41bc-98d5-9bd76d327421",
   "metadata": {},
   "outputs": [
    {
     "name": "stdout",
     "output_type": "stream",
     "text": [
      "Numbers: [23, 19, 45]\n",
      "Cube of numbers: [12167, 6859, 91125]\n"
     ]
    }
   ],
   "source": [
    "'''\n",
    "Write a program to find cubes of numbers of list using map () function.\n",
    "Hint: list (map (function, list)) \n",
    "'''\n",
    "def cube(num):\n",
    "    return num**3\n",
    "numbers = [23,19,45]\n",
    "cubes = list(map(cube,numbers))\n",
    "print('Numbers:',numbers)\n",
    "print('Cube of numbers:',cubes)"
   ]
  },
  {
   "cell_type": "code",
   "execution_count": 75,
   "id": "ad7ddfac-b453-4e33-9b81-13c97a8249a3",
   "metadata": {},
   "outputs": [
    {
     "name": "stdin",
     "output_type": "stream",
     "text": [
      "Enter an element: Dog\n",
      "Enter an element: Cat\n",
      "Enter an element: Parrot\n",
      "Enter an element: Rabbit\n",
      "Enter an element: Turtle\n",
      "Enter an element: stop\n"
     ]
    },
    {
     "name": "stdout",
     "output_type": "stream",
     "text": [
      "List: ['Dog', 'Cat', 'Parrot', 'Rabbit', 'Turtle']\n"
     ]
    }
   ],
   "source": [
    "'''\n",
    "Write a program to take elements from user to add in list. Take input until user gives message- ‘stop’ and print the list.\n",
    "Hint: while loop and break statements.\n",
    "'''\n",
    "string = 'start'\n",
    "words = []\n",
    "while(string!='stop'):\n",
    "    string = input('Enter an element:')\n",
    "    words.append(string)\n",
    "else:\n",
    "    words.pop()\n",
    "print('List:',words)"
   ]
  },
  {
   "cell_type": "code",
   "execution_count": 76,
   "id": "c12d8419-8f79-4053-a72d-288cc02cf4fa",
   "metadata": {},
   "outputs": [
    {
     "name": "stdout",
     "output_type": "stream",
     "text": [
      "Actual_list: [12, 23, 455, 9, 321, 999, 3, 521, 21, 721]\n",
      "3-digit_numbers: [455, 321, 999, 521, 721]\n"
     ]
    }
   ],
   "source": [
    "# A list contains 1-digit, 2-digit and 3-digit numbers. Print only three-digit numbers using continue statement.\n",
    "nums = [12, 23, 455, 9, 321, 999, 3, 521, 21, 721]\n",
    "temp = []\n",
    "for i in nums:\n",
    "    if len(str(i)) < 3:\n",
    "        continue\n",
    "    else:\n",
    "        temp.append(i)\n",
    "print('Actual_list:',nums)\n",
    "print('3-digit_numbers:',temp)"
   ]
  },
  {
   "cell_type": "code",
   "execution_count": 82,
   "id": "f98e3dfd-f4e3-41e5-96d8-b0925fa92b0c",
   "metadata": {},
   "outputs": [
    {
     "name": "stdout",
     "output_type": "stream",
     "text": [
      "List with words starting with vowels and consonats: ['africa', 'zimbambe', 'kenya', 'nigeria', 'ethiopia']\n",
      "List after removing words starting with vowels: ['zimbambe', 'kenya', 'nigeria']\n"
     ]
    }
   ],
   "source": [
    "# write a program to input a list which contains strings start with vowels and consonants. Remove all the string starts with vowels.\n",
    "strings = ['africa','zimbambe','kenya','nigeria','ethiopia']\n",
    "print('List with words starting with vowels and consonats:',strings)\n",
    "for i in strings:\n",
    "    if i[0].lower() in 'aeiou':\n",
    "        strings.remove(i)\n",
    "print('List after removing words starting with vowels:',strings)"
   ]
  },
  {
   "cell_type": "code",
   "execution_count": 83,
   "id": "2f7da523-380a-45cd-a13b-f52b35caebfb",
   "metadata": {},
   "outputs": [
    {
     "name": "stdout",
     "output_type": "stream",
     "text": [
      "Matrix before transpose: [[1, 2], [3, 4]]\n",
      "Matrix after transpose: [[1, 3], [2, 4]]\n"
     ]
    }
   ],
   "source": [
    "# Write a program to transpose of two-dimensional matrix.\n",
    "matrix = [[1,2],[3,4]]\n",
    "print('Matrix before transpose:',matrix)\n",
    "matrix[0][1], matrix[1][0] = matrix[1][0], matrix[0][1]\n",
    "print('Matrix after transpose:',matrix)"
   ]
  }
 ],
 "metadata": {
  "kernelspec": {
   "display_name": "Python 3 (ipykernel)",
   "language": "python",
   "name": "python3"
  },
  "language_info": {
   "codemirror_mode": {
    "name": "ipython",
    "version": 3
   },
   "file_extension": ".py",
   "mimetype": "text/x-python",
   "name": "python",
   "nbconvert_exporter": "python",
   "pygments_lexer": "ipython3",
   "version": "3.11.5"
  }
 },
 "nbformat": 4,
 "nbformat_minor": 5
}

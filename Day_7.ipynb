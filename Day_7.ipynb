{
 "cells": [
  {
   "cell_type": "code",
   "execution_count": 5,
   "id": "a88a8396-a5cc-4ac0-a413-4cbc8317bb82",
   "metadata": {},
   "outputs": [
    {
     "name": "stdout",
     "output_type": "stream",
     "text": [
      "Students-Marks: {'manoj': 92, 'kiran': 82, 'ravi': 95}\n",
      "Student:ravi\n",
      "Max_marks:95\n"
     ]
    }
   ],
   "source": [
    "# Write a function to take three students names and marks using keyword arguments and print the name and marks of the student with highest marks.\n",
    "def maximum(**kwargs):\n",
    "    print('Students-Marks:',kwargs)\n",
    "    temp = max(kwargs.values())\n",
    "    for i in kwargs:\n",
    "        if kwargs[i] == temp:\n",
    "            print('Student:'+i+'\\nMax_marks:'+str(temp))\n",
    "maximum(manoj=92,kiran=82,ravi=95)"
   ]
  },
  {
   "cell_type": "code",
   "execution_count": 29,
   "id": "dffe9312-eaa6-4d4b-a431-00daa3c163cc",
   "metadata": {},
   "outputs": [
    {
     "name": "stdin",
     "output_type": "stream",
     "text": [
      "Enter a wbsite name: www.google.com\n"
     ]
    },
    {
     "name": "stdout",
     "output_type": "stream",
     "text": [
      "Domain of the www.google.com is .com\n"
     ]
    }
   ],
   "source": [
    "'''\n",
    "Write a function to return domain name in a website name.\n",
    "Eg: suppose string = www.amazon.in then domain name is – ‘in’.\n",
    "'''\n",
    "def domain(string):\n",
    "    parts = string.split('.')\n",
    "    return print(\"Domain of the {} is .{}\".format(string,parts[-1]))\n",
    "web = input(\"Enter a wbsite name:\")\n",
    "domain(web)"
   ]
  },
  {
   "cell_type": "code",
   "execution_count": 13,
   "id": "7adbe4bf-4d93-4fac-8430-2b1958700bb0",
   "metadata": {},
   "outputs": [
    {
     "name": "stdin",
     "output_type": "stream",
     "text": [
      "Enter mont-year format: 02-2004\n"
     ]
    },
    {
     "name": "stdout",
     "output_type": "stream",
     "text": [
      "Age: 20-years and 1-months\n"
     ]
    }
   ],
   "source": [
    "'''\n",
    "Write program to take month and year and calculate age in years and months up to march-2024.\n",
    "Eg: input: 02 – 2004 (February – 2004)\n",
    "    Output: 10 years and 1 month\n",
    "'''\n",
    "month, year = input('Enter mont-year format:').split('-')\n",
    "if int(month) < 3:\n",
    "    y = 2024 - int(year) \n",
    "    m = 3 - int(month) \n",
    "elif int(month) == 3:\n",
    "    y = 2024 - int(year)\n",
    "    m = 0\n",
    "else:\n",
    "    y = 2024 - int(year) -1\n",
    "    m = 12 - (int(month)-3)\n",
    "print(\"Age: {}-years and {}-months\".format(y,m))"
   ]
  },
  {
   "cell_type": "code",
   "execution_count": 15,
   "id": "7e47f228-a701-41ee-9ec3-6736610dd3e1",
   "metadata": {},
   "outputs": [
    {
     "name": "stdin",
     "output_type": "stream",
     "text": [
      "Enter a 4-bit binary number: 1010\n"
     ]
    },
    {
     "name": "stdout",
     "output_type": "stream",
     "text": [
      "1010 is an even-number!\n"
     ]
    }
   ],
   "source": [
    "# Write a function to take 4-bit binary number and check whether odd or even.\n",
    "bin_num = input('Enter a 4-bit binary number:')\n",
    "def fun(string):\n",
    "    if string[-1] == '1':\n",
    "        return 'odd'\n",
    "    else :\n",
    "        return 'even'\n",
    "print('{} is an {}-number!'.format(bin_num,fun(bin_num)))"
   ]
  },
  {
   "cell_type": "code",
   "execution_count": 17,
   "id": "316faae0-a230-42a2-a00d-c79b6a671cdd",
   "metadata": {},
   "outputs": [
    {
     "name": "stdout",
     "output_type": "stream",
     "text": [
      "Set1: {50, 20, 10, 60, 30}\n",
      "Set2: {80, 50, 70, 40, 90}\n",
      "Difference between set1 and set2 (set1 - set2): {10, 20, 60, 30}\n",
      "Difference between set2 and set1 (set2 - set1): {80, 40, 90, 70}\n"
     ]
    }
   ],
   "source": [
    "# write program to find difference between two sets.\n",
    "set1 = {20,30,10,60,50}\n",
    "set2 = {50,40,90,70,80}\n",
    "print('Set1:',set1)\n",
    "print('Set2:',set2)\n",
    "print('Difference between set1 and set2 (set1 - set2):',set1.difference(set2))\n",
    "print('Difference between set2 and set1 (set2 - set1):',set2.difference(set1))"
   ]
  },
  {
   "cell_type": "code",
   "execution_count": 28,
   "id": "30b41330-6d8f-42c9-be2d-6fee35c13071",
   "metadata": {},
   "outputs": [
    {
     "name": "stdout",
     "output_type": "stream",
     "text": [
      "dice_values:('5', '6')\n",
      "sum_of_dice:11\n"
     ]
    }
   ],
   "source": [
    "'''\n",
    "Write a function to roll two dice and also print sum of two dice.\n",
    "Output: dice_values: (2,4) and sum: 6\n",
    "'''\n",
    "from random import randint as r\n",
    "\n",
    "def roll():\n",
    "    dice1 = r(1,6)\n",
    "    dice2 = r(1,6)\n",
    "    info = 'dice_values:{}\\nsum_of_dice:{}'.format((str(dice1),str(dice2 )),dice1+dice2)\n",
    "    return print(info)\n",
    "\n",
    "roll()"
   ]
  },
  {
   "cell_type": "code",
   "execution_count": 34,
   "id": "8f2401d1-8228-426b-af94-6b189f960bb1",
   "metadata": {},
   "outputs": [
    {
     "name": "stdout",
     "output_type": "stream",
     "text": [
      "Actual_list: ['Ravi', 21, 92.5, 'kiran', '29', 'manoj', 99, 10500, 'car', 1.23]\n",
      "Sum of numericals in the list: 10713.73\n"
     ]
    }
   ],
   "source": [
    "# A list contains strings and numbers. Write a function to return the sum of numbers in the list.\n",
    "def list_sum(values):\n",
    "    sum = 0\n",
    "    for i in values:\n",
    "        if type(i) != str:\n",
    "            sum+=i\n",
    "    return sum\n",
    "mylist = ['Ravi',21,92.5,'kiran','29','manoj',99,10500,'car',1.23]\n",
    "print('Actual_list:',mylist)\n",
    "print('Sum of numericals in the list:',list_sum(mylist))"
   ]
  },
  {
   "cell_type": "code",
   "execution_count": 46,
   "id": "73a5c760-6757-4aff-af63-0d93a76f4209",
   "metadata": {},
   "outputs": [
    {
     "name": "stdout",
     "output_type": "stream",
     "text": [
      "Permutations with repetation: ['aaa', 'aab', 'aac', 'aba', 'abb', 'abc', 'aca', 'acb', 'acc', 'baa', 'bab', 'bac', 'bba', 'bbb', 'bbc', 'bca', 'bcb', 'bcc', 'caa', 'cab', 'cac', 'cba', 'cbb', 'cbc', 'cca', 'ccb', 'ccc']\n",
      "Permuations wihtout repetation: ['abc', 'acb', 'bac', 'bca', 'cab', 'cba']\n"
     ]
    }
   ],
   "source": [
    "# Write a program to print all the permutation of using ‘a’, ‘b’, ‘c’.\n",
    "permutations = []\n",
    "for i in 'abc':\n",
    "    for j in 'abc':\n",
    "        for k in 'abc':\n",
    "            permutations.append(i+j+k)\n",
    "print(\"Permutations with repetation:\",permutations)\n",
    "print(\"Permuations wihtout repetation:\", [i for i in permutations if 'a' in i and 'b' in i  and 'c' in i])"
   ]
  },
  {
   "cell_type": "code",
   "execution_count": 50,
   "id": "f97cb585-f4c6-40f0-b4f9-b78bc5549801",
   "metadata": {},
   "outputs": [
    {
     "name": "stdin",
     "output_type": "stream",
     "text": [
      "Enter sequence of numbers separated by comma's: 21,89,27,52,99,19,22,76,88,92\n"
     ]
    },
    {
     "name": "stdout",
     "output_type": "stream",
     "text": [
      "Numbers list: [21, 89, 27, 52, 99, 19, 22, 76, 88, 92]\n"
     ]
    }
   ],
   "source": [
    "'''\n",
    "Write a function to take sequence of number separated by comma and return list of numbers.\n",
    "Eg: fun (“2,4,1,5,3”) returns list = [2,4,1,5,3]\n",
    "'''\n",
    "def num_list(string):\n",
    "    nums = [int(i) for i in string.split(',')]\n",
    "    return nums\n",
    "string = input(\"Enter sequence of numbers separated by comma's:\")\n",
    "print('Numbers list:',num_list(string))"
   ]
  },
  {
   "cell_type": "code",
   "execution_count": 49,
   "id": "0aaad0e9-f03b-4cac-a034-20225691bb74",
   "metadata": {},
   "outputs": [
    {
     "name": "stdout",
     "output_type": "stream",
     "text": [
      "My_list: [92, 91, 71, 52, 81, 72, 55, 67, 76]\n",
      "Averge of list: 73.0\n"
     ]
    }
   ],
   "source": [
    "# write a function to return average of a list.\n",
    "def avg(nums):\n",
    "    return sum(nums)/len(nums)\n",
    "mylist = [92,91,71,52,81,72,55,67,76]\n",
    "print('My_list:',mylist)\n",
    "print('Averge of list:',avg(mylist))"
   ]
  }
 ],
 "metadata": {
  "kernelspec": {
   "display_name": "Python 3 (ipykernel)",
   "language": "python",
   "name": "python3"
  },
  "language_info": {
   "codemirror_mode": {
    "name": "ipython",
    "version": 3
   },
   "file_extension": ".py",
   "mimetype": "text/x-python",
   "name": "python",
   "nbconvert_exporter": "python",
   "pygments_lexer": "ipython3",
   "version": "3.11.5"
  }
 },
 "nbformat": 4,
 "nbformat_minor": 5
}

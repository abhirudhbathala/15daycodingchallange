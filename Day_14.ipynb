{
 "cells": [
  {
   "cell_type": "code",
   "execution_count": 3,
   "id": "c03b6d24-a9fb-4924-8af5-a3547ab07dbb",
   "metadata": {},
   "outputs": [
    {
     "name": "stdin",
     "output_type": "stream",
     "text": [
      "Enter a: 4\n",
      "Enter b: 2\n",
      "Enter c: 3\n"
     ]
    },
    {
     "name": "stdout",
     "output_type": "stream",
     "text": [
      "Root-1: (-0.25-0.82915619758885j)\n",
      "Root-2: (-0.25+0.82915619758885j)\n"
     ]
    }
   ],
   "source": [
    "'''\n",
    "write a program to find roots of quadratic equation.\n",
    "Hint – use complex (a, b) to get complex numbers.\n",
    "'''\n",
    "a = int(input('Enter a:'))\n",
    "b = int(input('Enter b:'))\n",
    "c = int(input('Enter c:'))\n",
    "det =((b**2)-(4*a*c))\n",
    "den = (2*a)\n",
    "if not(det < 0):\n",
    "    r1 = (-b + det**0.5)/den\n",
    "    r2 = (-b - det**0.5) /den\n",
    "else: \n",
    "    r1 = complex(-b/den,-((-det)**0.5/den))\n",
    "    r2 = complex(-b/den,+((-det)**0.5/den))\n",
    "print('Root-1:',r1)\n",
    "print('Root-2:',r2)"
   ]
  },
  {
   "cell_type": "code",
   "execution_count": 5,
   "id": "52ca1001-b2bb-4fc2-beb1-2bc0230d0031",
   "metadata": {},
   "outputs": [
    {
     "name": "stdout",
     "output_type": "stream",
     "text": [
      "Actual Matrix: [[1, 2, 3], [4, 5, 6], [7, 8, 9]]\n",
      "Transposed Matrix: [[1, 4, 7], [2, 5, 8], [3, 6, 9]]\n"
     ]
    }
   ],
   "source": [
    "'''\n",
    "Write a program to transpose 3*3 matrix.\n",
    "Hint: add each column of matrix to a new list.\n",
    "'''\n",
    "matrix = [[1,2,3],\n",
    "          [4,5,6],\n",
    "          [7,8,9]]\n",
    "transpose = [[],[],[]]\n",
    "for i in range(3):\n",
    "    for j in range (3):\n",
    "        transpose[i].append(matrix[j][i])\n",
    "print('Actual Matrix:',matrix)\n",
    "print('Transposed Matrix:',transpose)"
   ]
  },
  {
   "cell_type": "code",
   "execution_count": 1,
   "id": "35076622-f6db-44a5-a411-2b266e044ed5",
   "metadata": {},
   "outputs": [
    {
     "name": "stdin",
     "output_type": "stream",
     "text": [
      "Enter a sequence seperated by commas: 34,56,79,86,93\n"
     ]
    },
    {
     "name": "stdout",
     "output_type": "stream",
     "text": [
      "list given: [34, 56, 79, 86, 93]\n",
      "list is in increasing order!\n"
     ]
    }
   ],
   "source": [
    "# check whether a list follow ascending or descending or no-order.\n",
    "def check(nums):\n",
    "    if nums == sorted(nums):\n",
    "        return print('list is in increasing order!')\n",
    "    elif nums == sorted(nums,reverse = True):\n",
    "        return print('list is in decreasing order!')\n",
    "    else:\n",
    "        return print('list does not follow any order!')\n",
    "string = input('Enter a sequence seperated by commas:')\n",
    "numbers = [int(i) for i in string.split(',')]\n",
    "print('list given:',numbers)\n",
    "check(numbers)"
   ]
  },
  {
   "cell_type": "code",
   "execution_count": 2,
   "id": "a42e3503-7f04-4abe-9192-d2eebbd0d08f",
   "metadata": {},
   "outputs": [
    {
     "name": "stdout",
     "output_type": "stream",
     "text": [
      "col_matrix: [3, 2, 5]\n",
      "row_matrix: [[9], [4], [7]]\n",
      "col_matrix * row_matrix = 70\n"
     ]
    }
   ],
   "source": [
    "'''\n",
    "Write a program to multiply a column matrix with row matrix.\n",
    "    -\tColumn matrix shape: 1*m\n",
    "    -\tRow matrix shape:  m*1\n",
    "'''\n",
    "col_mat = [ 3, 2, 5 ]\n",
    "row_mat =[ [9],[4],[7] ]\n",
    "ans = 0\n",
    "for i in range(3):\n",
    "    ans += col_mat[i] * row_mat[i][0]\n",
    "print('col_matrix:',col_mat)\n",
    "print('row_matrix:',row_mat)\n",
    "print('col_matrix * row_matrix =',ans)"
   ]
  },
  {
   "cell_type": "code",
   "execution_count": 7,
   "id": "b8b94c3c-5555-4a5d-b1b8-50928dc376bf",
   "metadata": {},
   "outputs": [
    {
     "name": "stdout",
     "output_type": "stream",
     "text": [
      "My_playlist: ['Song-A', 'Song-B', 'Song-C', 'Song-D', 'Song-E']\n"
     ]
    },
    {
     "name": "stdin",
     "output_type": "stream",
     "text": [
      "Enter-no-loops: 5\n"
     ]
    },
    {
     "name": "stdout",
     "output_type": "stream",
     "text": [
      "shuffled_list-1: ['Song-C', 'Song-B', 'Song-E', 'Song-A', 'Song-D']\n",
      "shuffled_list-2: ['Song-B', 'Song-D', 'Song-E', 'Song-C', 'Song-A']\n",
      "shuffled_list-3: ['Song-A', 'Song-D', 'Song-B', 'Song-C', 'Song-E']\n",
      "shuffled_list-4: ['Song-E', 'Song-D', 'Song-B', 'Song-A', 'Song-C']\n",
      "shuffled_list-5: ['Song-B', 'Song-D', 'Song-A', 'Song-E', 'Song-C']\n"
     ]
    }
   ],
   "source": [
    "# A playlist contains five songs. write a program to shuffle the playlist which is on loop for n times taken from user.\n",
    "import random\n",
    "my_playlist = ['Song-A', 'Song-B', 'Song-C', 'Song-D', 'Song-E']\n",
    "print('My_playlist:',my_playlist)\n",
    "num = int(input('Enter-no-loops:'))\n",
    "for i in range(num):\n",
    "    random.shuffle(my_playlist)\n",
    "    print('shuffled_list-{}:'.format(i+1),my_playlist)"
   ]
  },
  {
   "cell_type": "code",
   "execution_count": 15,
   "id": "2f4162e5-7142-44a5-9b85-ea5c0b15c2a2",
   "metadata": {},
   "outputs": [
    {
     "name": "stdin",
     "output_type": "stream",
     "text": [
      "Enter a string: BOokShOp\n"
     ]
    },
    {
     "name": "stdout",
     "output_type": "stream",
     "text": [
      "String after removing duplicate in order is: BOkShp\n"
     ]
    }
   ],
   "source": [
    "# write a program to remove duplicate characters from string irrespective of case and print in same order.\n",
    "string = input('Enter a string:')\n",
    "temp = [i for i in string]\n",
    "dup = []\n",
    "for i in range(len(string)):\n",
    "    if string[i].upper() in temp[:i] or string[i].lower() in temp[:i]:\n",
    "        dup.append(i)\n",
    "dup.reverse()\n",
    "for i in dup:\n",
    "    temp.pop(i)\n",
    "new_str = ''\n",
    "for i in temp:\n",
    "    new_str += i\n",
    "print('String after removing duplicate in order is:',new_str)"
   ]
  },
  {
   "cell_type": "code",
   "execution_count": 10,
   "id": "a1290f3e-cc5f-47d3-9923-64d04f5814f4",
   "metadata": {},
   "outputs": [
    {
     "name": "stdout",
     "output_type": "stream",
     "text": [
      "list: [25, 32, 27, 22, 30]\n",
      "GM on list: 26.964944909195644\n"
     ]
    }
   ],
   "source": [
    "# write a program to caluclate geometric mean on list\n",
    "def gm(nums):\n",
    "    temp = 1\n",
    "    n = len(nums)\n",
    "    for i in nums:\n",
    "        temp *= i\n",
    "    return (temp**(1/n))\n",
    "lst = [25, 32, 27, 22, 30]\n",
    "print('list:',lst)\n",
    "print('GM on list:',gm(lst))"
   ]
  },
  {
   "cell_type": "code",
   "execution_count": 2,
   "id": "4c1c6c18-30fa-4556-b7fe-c74e6c9ea448",
   "metadata": {},
   "outputs": [
    {
     "name": "stdin",
     "output_type": "stream",
     "text": [
      "Enter amount: 25000\n",
      "Enter Time-period: 3\n",
      "Enter rate of intrest: 5\n",
      "no of time compunded yearly: 4\n"
     ]
    },
    {
     "name": "stdout",
     "output_type": "stream",
     "text": [
      "Compund intrest: 4018.8629430749534\n"
     ]
    }
   ],
   "source": [
    "# write a program to caluclate compound intrest.\n",
    "pri = int(input('Enter amount:'))\n",
    "time = int(input('Enter Time-period:'))\n",
    "rate = int(input('Enter rate of intrest:'))\n",
    "num = int(input('no of time compunded yearly:'))\n",
    "ci = lambda p, t, r, n:(p*((1+r/(100*n))**(n*t)))-p\n",
    "print('Compund intrest:',ci(pri, time, rate, num))"
   ]
  },
  {
   "cell_type": "code",
   "execution_count": 2,
   "id": "46f581d6-ff4b-489c-9365-7f6cf4e5c4d5",
   "metadata": {},
   "outputs": [
    {
     "name": "stdout",
     "output_type": "stream",
     "text": [
      "list: [92, 'ravi', 1.23, 'kiran', '44']\n",
      "string: 92ravi1.23kiran44\n"
     ]
    }
   ],
   "source": [
    "# A list contains both strings and numbers concatinate all the elements into a string.\n",
    "lst = [92, 'ravi', 1.23, 'kiran', '44']\n",
    "string = ''\n",
    "for i in lst:\n",
    "    string += str(i)\n",
    "print('list:',lst)\n",
    "print('string:',string)"
   ]
  },
  {
   "cell_type": "code",
   "execution_count": 3,
   "id": "db296a20-a65a-4e84-832d-56f5831ab347",
   "metadata": {},
   "outputs": [
    {
     "name": "stdout",
     "output_type": "stream",
     "text": [
      "Actual_list: [19, 25, 25, 19, 33, 42, 89, 33, 42, 89, 74, 74, 89, 33]\n",
      "Counter_obj: Counter({33: 3, 89: 3, 19: 2, 25: 2, 42: 2, 74: 2})\n",
      "Most frequent elements: [33, 89]\n",
      "Least frequent elements: [19, 25, 42, 74]\n",
      "Elements of list: dict_keys([19, 25, 33, 42, 89, 74])\n"
     ]
    }
   ],
   "source": [
    "'''\n",
    "Write a program to import counter from collections:\n",
    "•\tFind most frequent element in list.\n",
    "•\tFind least frequent element in list.\n",
    "•\tDisplay elements of list using counter.\n",
    "'''\n",
    "from collections import Counter\n",
    "\n",
    "lst = [19, 25, 25, 19, 33, 42, 89, 33, 42, 89, 74, 74, 89, 33]\n",
    "count = Counter(lst)\n",
    "m_fre = max(count.values())\n",
    "l_fre = min(count.values())\n",
    "m_temp = []\n",
    "l_temp = []\n",
    "for i in count:\n",
    "    if count[i] == m_fre:\n",
    "        m_temp.append(i)\n",
    "for i in count:\n",
    "    if count[i] == l_fre:\n",
    "        l_temp.append(i)\n",
    "print('Actual_list:',lst)\n",
    "print('Counter_obj:',count)\n",
    "print('Most frequent elements:',m_temp)\n",
    "print('Least frequent elements:',l_temp)\n",
    "print('Elements of list:',count.keys())"
   ]
  }
 ],
 "metadata": {
  "kernelspec": {
   "display_name": "Python 3 (ipykernel)",
   "language": "python",
   "name": "python3"
  },
  "language_info": {
   "codemirror_mode": {
    "name": "ipython",
    "version": 3
   },
   "file_extension": ".py",
   "mimetype": "text/x-python",
   "name": "python",
   "nbconvert_exporter": "python",
   "pygments_lexer": "ipython3",
   "version": "3.11.5"
  }
 },
 "nbformat": 4,
 "nbformat_minor": 5
}

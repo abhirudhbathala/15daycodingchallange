{
 "cells": [
  {
   "cell_type": "code",
   "execution_count": 1,
   "id": "d4f751aa-407f-4927-ae79-93bbb360bba1",
   "metadata": {},
   "outputs": [
    {
     "name": "stdout",
     "output_type": "stream",
     "text": [
      "List before rotating: ['cricket', 'Hockey', 'Badmintion', 'Football', 'Tennis']\n"
     ]
    },
    {
     "name": "stdin",
     "output_type": "stream",
     "text": [
      "Which index to start the list: 2\n"
     ]
    },
    {
     "name": "stdout",
     "output_type": "stream",
     "text": [
      "List after rotating: ['Badmintion', 'Football', 'Tennis', 'cricket', 'Hockey']\n"
     ]
    }
   ],
   "source": [
    "'''\n",
    "Write program to rotate the list to given index.\n",
    "Eg:\tlist = [‘a’, ‘b’, ‘c’, ‘d’, ’e’]\n",
    "\tIndex = 3\n",
    "\trotated_list = [‘d’, ‘e’, ‘a’, ‘b’, ‘c’]\n",
    "'''\n",
    "games =['cricket','Hockey','Badmintion','Football','Tennis']\n",
    "print('List before rotating:',games)\n",
    "index = int(input('Which index to start the list:'))\n",
    "ran = list(range(0,index))\n",
    "for i in ran:\n",
    "    games.append(games[i])\n",
    "ran.reverse()\n",
    "for i in ran:   \n",
    "    games.pop(i)\n",
    "print('List after rotating:',games)"
   ]
  },
  {
   "cell_type": "code",
   "execution_count": 27,
   "id": "3c5d0a5f-547a-4f0d-808f-4cc7a10ff84d",
   "metadata": {},
   "outputs": [
    {
     "name": "stdout",
     "output_type": "stream",
     "text": [
      "Actual_list: [9, -4, 2, 0, -2, 7, -3, 5, -5]\n",
      "Sorted_list: [0, -2, 2, -3, -4, -5, 5, 7, 9]\n"
     ]
    }
   ],
   "source": [
    "'''\n",
    "A list contains both positive and negative numbers. sort the list by ignoring sign.\n",
    "    Actual list: [9, -4, 2, 0, -2, 7, -3, 5, -5]\n",
    "    Sorted list: [0, -2, 2, -3, -4, -5, 5, 7, 9]\n",
    "    Hint: abs(number) return absolute value by removing sign.\n",
    "'''\n",
    "nums = [9, -4, 2, 0, -2, 7, -3, 5, -5]\n",
    "temp = sorted([abs(i) for i in nums])\n",
    "negative = sorted([abs(i) for i in nums if i < 0])\n",
    "for i in negative:\n",
    "    for j in range(len(temp)):\n",
    "        if temp[i] == temp[j]:\n",
    "            temp[j] = -temp[j]\n",
    "            break\n",
    "print('Actual_list:',nums)\n",
    "print('Sorted_list:',temp)"
   ]
  },
  {
   "cell_type": "code",
   "execution_count": 2,
   "id": "30e490a2-be69-4c7d-9b4b-52fd0b6abc41",
   "metadata": {},
   "outputs": [
    {
     "name": "stdin",
     "output_type": "stream",
     "text": [
      "Enter a sentene: I AM GROOT\n"
     ]
    },
    {
     "name": "stdout",
     "output_type": "stream",
     "text": [
      "Sentence after shuffle: GROOT AM I\n"
     ]
    }
   ],
   "source": [
    "# Write a function that take a sentence and returns the sentence by shuffling the words.\n",
    "import random\n",
    "def shuffle(sentence):\n",
    "    temp = sentence.split()\n",
    "    random.shuffle(temp)\n",
    "    string = ''\n",
    "    for i in temp:\n",
    "        string += i\n",
    "        string += ' '\n",
    "    string = string[:-1]\n",
    "    return string\n",
    "sentence = input('Enter a sentene:')\n",
    "shuffled = shuffle(sentence)\n",
    "print('Sentence after shuffle:',shuffled)"
   ]
  },
  {
   "cell_type": "code",
   "execution_count": 2,
   "id": "67f08cb3-024b-4081-a6c7-848303b49525",
   "metadata": {},
   "outputs": [
    {
     "name": "stdin",
     "output_type": "stream",
     "text": [
      "Enter a number: 73\n",
      "Enter a number: 101\n"
     ]
    },
    {
     "name": "stdout",
     "output_type": "stream",
     "text": [
      "LCM of 73 and 101 is 7373.\n"
     ]
    }
   ],
   "source": [
    "# Write a function to return LCM of two numbers.\n",
    "def lcm(a, b):\n",
    "    temp = max(a,b)\n",
    "    while temp%a or temp%b:\n",
    "        temp += 1\n",
    "    return temp\n",
    "a, b = int(input('Enter a number:')), int(input('Enter a number:'))\n",
    "print('LCM of {} and {} is {}.'.format(a,b,lcm(a,b)))"
   ]
  },
  {
   "cell_type": "code",
   "execution_count": 9,
   "id": "b826cd67-76ca-429f-8074-1acbeb4ad9ab",
   "metadata": {},
   "outputs": [
    {
     "name": "stdout",
     "output_type": "stream",
     "text": [
      "Words in list: ['umbrella', 'bicycle', 'bag', 'bat', 'mobile']\n",
      "Words after filtering: ['bicycle', 'bag', 'bat']\n"
     ]
    }
   ],
   "source": [
    "'''\n",
    "A list contains words. Write a program to delete the words form list if it contains more than two vowels.\n",
    "    -\trepetition of same vowel more than once also considered in vowel count.\n",
    "    -\t‘Book’ – vowel_count = 2 stays in list\n",
    "        ‘mobile’ – vowel_count = 3 remove from list\n",
    "        ‘queue’ – vowel_count = 4 remove form list\n",
    "\n",
    "'''\n",
    "def change(temp):\n",
    "    for i in  temp:\n",
    "        count = 0\n",
    "        for j in i.lower():\n",
    "            if j in 'aeiou':\n",
    "                count += 1\n",
    "        if count > 2:\n",
    "            temp.remove(i)\n",
    "    return temp\n",
    "words = ['umbrella', 'bicycle', 'bag', 'bat', 'mobile']\n",
    "print('Words in list:',words)\n",
    "print('Words after filtering:',change(words))"
   ]
  },
  {
   "cell_type": "code",
   "execution_count": 25,
   "id": "1fcd4463-a4bf-4e7d-b6b7-df59ba8f0f51",
   "metadata": {},
   "outputs": [
    {
     "name": "stdin",
     "output_type": "stream",
     "text": [
      "Enter a number: 99903\n"
     ]
    },
    {
     "name": "stdout",
     "output_type": "stream",
     "text": [
      "99903 is dominated by odd numbers.\n"
     ]
    }
   ],
   "source": [
    "# write a function to take a number and wheter it is dominated by even number or oddnumbers or balanced.\n",
    "def check(num):\n",
    "    even = 0\n",
    "    odd = 0\n",
    "    for i in str(num):\n",
    "        if int(i)%2:\n",
    "            odd += 1\n",
    "        else:\n",
    "            even += 1\n",
    "    if odd == even:\n",
    "        return print('{} is balanced number.'.format(num))\n",
    "    else:\n",
    "        if odd < even:\n",
    "            return print('{} is dominated by even numbers.'.format(num))\n",
    "        else:\n",
    "            return print('{} is dominated by odd numbers.'.format(num))\n",
    "num = int(input('Enter a number:'))\n",
    "check(num)"
   ]
  },
  {
   "cell_type": "code",
   "execution_count": 7,
   "id": "63909b82-8cfe-4db5-ae89-69475acf308f",
   "metadata": {},
   "outputs": [
    {
     "name": "stdout",
     "output_type": "stream",
     "text": [
      "col_matrix: [2, 4, 3, 7, 5]\n",
      "row_matrix: [[2], [4], [3], [7], [5]]\n"
     ]
    }
   ],
   "source": [
    "# write a program to convert a column matrix to row matrix:\n",
    "col_mat = [2,4,3,7,5]\n",
    "row_mat = []\n",
    "for i in col_mat:\n",
    "    row_mat.append([i])\n",
    "print('col_matrix:',col_mat)\n",
    "print('row_matrix:',row_mat)"
   ]
  },
  {
   "cell_type": "code",
   "execution_count": 7,
   "id": "4e3d6cc2-e8a0-4e44-b866-6780b5494677",
   "metadata": {},
   "outputs": [
    {
     "name": "stdin",
     "output_type": "stream",
     "text": [
      "Enter start: 11\n",
      "Enter stop: 45\n"
     ]
    },
    {
     "name": "stdout",
     "output_type": "stream",
     "text": [
      "primes between the range: [11, 13, 17, 19, 23, 29, 31, 37, 41, 43]\n",
      "The sum of prime numbers between the range(11,45) is 264.\n"
     ]
    }
   ],
   "source": [
    "# write a program to caluclate sum of prime numbers within a given range.\n",
    "start = int(input('Enter start:'))\n",
    "stop = int(input('Enter stop:'))\n",
    "prime = []\n",
    "sum = 0\n",
    "for i in range(start, stop):\n",
    "    n = i//2 + 1\n",
    "    for j in range(2, n+1):\n",
    "        if not(i%j):\n",
    "            break\n",
    "    if j == n:\n",
    "        prime.append(i)\n",
    "        sum += i\n",
    "print('primes between the range:',prime)\n",
    "print('The sum of prime numbers between the range({},{}) is {}.'.format(start, stop, sum)) "
   ]
  },
  {
   "cell_type": "code",
   "execution_count": 6,
   "id": "3dab9642-65bf-4a57-aa56-c5be3e66a736",
   "metadata": {},
   "outputs": [
    {
     "name": "stdout",
     "output_type": "stream",
     "text": [
      "list: [1, 2, 3, 4, 5]\n",
      "tuple: (6, 7, 8, 9, 10)\n",
      "adding tuple to list: [1, 2, 3, 4, 5, 6, 7, 8, 9, 10]\n"
     ]
    }
   ],
   "source": [
    "# write a program to add tuple to list\n",
    "lst = [1,2,3,4,5]\n",
    "tup = (6,7,8,9,10)\n",
    "print('list:',lst)\n",
    "print('tuple:',tup)\n",
    "print('adding tuple to list:',lst+list(tup))"
   ]
  },
  {
   "cell_type": "code",
   "execution_count": 19,
   "id": "770289c8-e791-4945-8b01-03a62dfafc44",
   "metadata": {},
   "outputs": [
    {
     "name": "stdout",
     "output_type": "stream",
     "text": [
      "factorial of 5: 120\n",
      "Area of cirlce with radius 3: 28.274333882308138\n",
      "GCD of 24, 42, 78: 6\n"
     ]
    }
   ],
   "source": [
    "'''\n",
    "    write a program to import math module and use \n",
    "    •\tfactorial function\n",
    "    •\tgcd function\n",
    "    •\tcalculate area of circle using pi constant.\n",
    "'''\n",
    "import math as m\n",
    "print('factorial of 5:',m.factorial(5))\n",
    "print('Area of cirlce with radius 3:',m.pi*3*3)\n",
    "print('GCD of 24, 42, 78:',m.gcd(24,42,78))"
   ]
  }
 ],
 "metadata": {
  "kernelspec": {
   "display_name": "Python 3 (ipykernel)",
   "language": "python",
   "name": "python3"
  },
  "language_info": {
   "codemirror_mode": {
    "name": "ipython",
    "version": 3
   },
   "file_extension": ".py",
   "mimetype": "text/x-python",
   "name": "python",
   "nbconvert_exporter": "python",
   "pygments_lexer": "ipython3",
   "version": "3.11.5"
  }
 },
 "nbformat": 4,
 "nbformat_minor": 5
}

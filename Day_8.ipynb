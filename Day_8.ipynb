{
 "cells": [
  {
   "cell_type": "code",
   "execution_count": 2,
   "id": "dc313523-afa9-49b4-9298-460395045a66",
   "metadata": {},
   "outputs": [
    {
     "name": "stdout",
     "output_type": "stream",
     "text": [
      "List: [2, 9, 6, 7, 8, 1, 4, 0, 3, 5]\n",
      "{'odd': [9, 7, 1, 3, 5], 'even': [2, 6, 8, 4, 0]}\n"
     ]
    }
   ],
   "source": [
    "'''\n",
    "A list contains both odd and even numbers. Write a function that takes list and return dictionary where odd and even numbers are stored separately.\n",
    "Eg: list = [2,9,7,8]\n",
    "\tfun(list) returns dictionary (‘odd’: [9,7], ‘even’: [2,8])\n",
    "'''\n",
    "nums = [2,9,6,7,8,1,4,0,3,5]\n",
    "print('List:',nums)\n",
    "my_d = {'odd':[],'even':[]}\n",
    "for i in nums:\n",
    "    if i%2:\n",
    "        my_d['odd'].append(i)\n",
    "    else:\n",
    "        my_d['even'].append(i)\n",
    "print(my_d)"
   ]
  },
  {
   "cell_type": "code",
   "execution_count": 7,
   "id": "b1120e99-0ae6-438b-acbd-7def5017c75c",
   "metadata": {},
   "outputs": [
    {
     "name": "stdin",
     "output_type": "stream",
     "text": [
      "Enter a string: Malayalam\n"
     ]
    },
    {
     "name": "stdout",
     "output_type": "stream",
     "text": [
      "Malayalam is a palidrome!\n"
     ]
    }
   ],
   "source": [
    "'''\n",
    "Write to program to check palindrome or not using recursion.\n",
    "Hint: flag = function (string [1: -1])\n",
    "\treturn flag\n",
    "Where function return True or False at final level of recursion.\n",
    "'''\n",
    "string = input('Enter a string:')\n",
    "def rec(string):\n",
    "    if len(string) > 1:\n",
    "        if string[0] == string[-1]:\n",
    "            flag = rec(string[1:-1])\n",
    "            return flag\n",
    "        else:\n",
    "            return False\n",
    "    else :\n",
    "        return True\n",
    "if rec(string.lower()):\n",
    "    print('{} is a palidrome!'.format(string))\n",
    "else : \n",
    "    print('{} is not a palidrome!'.format(string))"
   ]
  },
  {
   "cell_type": "code",
   "execution_count": 11,
   "id": "da92a219-b3a9-4046-8e10-b4446dff4eee",
   "metadata": {},
   "outputs": [
    {
     "name": "stdout",
     "output_type": "stream",
     "text": [
      "Genres available: dict_keys(['Anime', 'Action', 'Drama'])\n"
     ]
    },
    {
     "name": "stdin",
     "output_type": "stream",
     "text": [
      "Enter a gerene: Drama\n"
     ]
    },
    {
     "name": "stdout",
     "output_type": "stream",
     "text": [
      "Movie of the Day: Past Lives\n"
     ]
    }
   ],
   "source": [
    "'''\n",
    "A dictionary contains three gernes and three movies of each gerne. Write a function to take gerne and return a random movie of that gerne.\n",
    "Eg: mydict = {‘Action’: [‘A’, ‘B’, ‘C’],\n",
    "     ‘Anime’: [‘D’, ‘E’, ‘F’], \n",
    "     ’Horror’: [‘G’, ‘H’, ‘I’]}\n",
    "\t\tMovie = function(‘Anime’)\n",
    "\t\tHint: use random. choice ()\n",
    "'''\n",
    "import random\n",
    "my_dict = {'Anime':['My Hero Academia','Full Metal Alchemist:Brotherhood','Parasite:The Maxim'],\n",
    "           'Action':['Top Gun: Maveric','No Time To Die','The Batman'],\n",
    "           'Drama': ['Parasite','Past Lives','Pepperiment Candy']}\n",
    "def fun( gerne, movies = my_dict):\n",
    "    return random.choice(movies[gerne])\n",
    "print('Genres available:',my_dict.keys())\n",
    "gerne = input('Enter a gerene:')\n",
    "movie = fun(gerne)\n",
    "print('Movie of the Day:',movie)"
   ]
  },
  {
   "cell_type": "code",
   "execution_count": 13,
   "id": "5633da03-d3ae-4f15-8fd5-836cb6085805",
   "metadata": {},
   "outputs": [
    {
     "name": "stdout",
     "output_type": "stream",
     "text": [
      "Coupons available: ['holiday100', 'summer150', 'ipl149', 'firstday111', 'beginner100']\n",
      "The cupon code with maximum benfit: summer150\n"
     ]
    }
   ],
   "source": [
    "'''\n",
    "A list contain coupon code where last three characters of code represents cashback. Write a function to coupon code with maximum cashback.\n",
    "Eg: list = [‘chirstmas200’, ‘holiday120’, ‘Sunday100’]\n",
    "      function(list) will return ‘chirstmas200’.\n",
    "'''\n",
    "coupons = ['holiday100','summer150','ipl149','firstday111','beginner100']\n",
    "print('Coupons available:',coupons)\n",
    "def benfit(c_list = coupons):\n",
    "    temp = c_list[0]\n",
    "    for i in c_list :\n",
    "        if int(temp[-3:]) < int(i[-3:]):\n",
    "          temp = i\n",
    "    return temp\n",
    "print('The cupon code with maximum benfit:',benfit())"
   ]
  },
  {
   "cell_type": "code",
   "execution_count": 18,
   "id": "8cf8310f-abd9-4401-abda-f16662cecb16",
   "metadata": {},
   "outputs": [
    {
     "name": "stdout",
     "output_type": "stream",
     "text": [
      "Student emails: ['ravikumar12@gmail', 'kiran222@gmail.com', 'manojkumar@gmail.com', 'srinivasgmail.com', 'pavankalyan91@gmail.com', 'suraj121@gmail.com', 'varuntej45@gmail.com']\n",
      "Students selected for course: ['kiran222@gmail.com', 'manojkumar@gmail.com', 'pavankalyan91@gmail.com']\n"
     ]
    }
   ],
   "source": [
    "'''\n",
    "A list contains valid and invalid Gamils of students registering course in order. \n",
    "Write a program to select 3 students with valid Gmail using first-come-first-serve.\n",
    "'''\n",
    "students = ['ravikumar12@gmail','kiran222@gmail.com','manojkumar@gmail.com','srinivasgmail.com','pavankalyan91@gmail.com','suraj121@gmail.com','varuntej45@gmail.com']\n",
    "selected = []\n",
    "counter = 0\n",
    "while len(selected)<3:\n",
    "    if students[counter].strip()[-10:] == '@gmail.com':\n",
    "        selected.append(students[counter].strip())\n",
    "    counter+=1\n",
    "print('Student emails:',students)\n",
    "print('Students selected for course:',selected)"
   ]
  },
  {
   "cell_type": "code",
   "execution_count": 21,
   "id": "f8f8ce2c-a31c-4e96-8b47-e615723616c1",
   "metadata": {},
   "outputs": [
    {
     "name": "stdin",
     "output_type": "stream",
     "text": [
      "Enter sequence of numbers seperated by commas: 11,13,15,17,19\n"
     ]
    },
    {
     "name": "stdout",
     "output_type": "stream",
     "text": [
      "List of numbers: [11, 13, 15, 17, 19]\n",
      "Multiplication of numbers of list: 692835\n"
     ]
    }
   ],
   "source": [
    "# Write a function to take list and return multiplication of elements of list.\n",
    "string = input('Enter sequence of numbers seperated by commas:')\n",
    "numbers = [int(i) for i in string.split(',')]\n",
    "def multiply(nums):\n",
    "    temp = 1\n",
    "    for i in nums:\n",
    "        temp*=i\n",
    "    return temp\n",
    "print('List of numbers:',numbers)\n",
    "print('Multiplication of numbers of list:',multiply(numbers))"
   ]
  },
  {
   "cell_type": "code",
   "execution_count": 24,
   "id": "5c14907c-e858-49bd-ad81-cce52c971061",
   "metadata": {},
   "outputs": [
    {
     "name": "stdin",
     "output_type": "stream",
     "text": [
      "Enter date of purchase: 14-02\n"
     ]
    },
    {
     "name": "stdout",
     "output_type": "stream",
     "text": [
      "Warranty for your product is available.\n"
     ]
    }
   ],
   "source": [
    "# A product has six months warranty. Write a program to check warranty of product by taking date – month of purchase and calculate up to 25 – March.\n",
    "date = input('Enter date of purchase:')\n",
    "day, month = [int(i) for i in date.split('-')]\n",
    "if month < 9 and month > 3:\n",
    "    available = False\n",
    "elif month == 9:\n",
    "    if day < 25:\n",
    "        available = False\n",
    "    else:\n",
    "        available = True\n",
    "elif month == 3:\n",
    "    if day > 25: \n",
    "        available = False\n",
    "    else :\n",
    "        available = True\n",
    "else: \n",
    "    available = True\n",
    "print('Warranty for your product is {}.'.format('available' if available else 'not available'))"
   ]
  },
  {
   "cell_type": "code",
   "execution_count": 25,
   "id": "5f7fa5f4-03c7-4867-8d5a-b909e087b2d8",
   "metadata": {},
   "outputs": [
    {
     "name": "stdout",
     "output_type": "stream",
     "text": [
      "permutations without repetation using 'a','b','c' is ['abc', 'acb', 'bac', 'bca', 'cab', 'cba']\n"
     ]
    }
   ],
   "source": [
    "'''\n",
    "Print the permutations of ‘a’, ‘b’, ‘c’ without repetition.\n",
    "Output – [‘abc’, ‘acb’, ‘bac’, ‘bca’, ‘cab’, ‘cba’]\n",
    "'''\n",
    "string ='abc'\n",
    "permut = []\n",
    "for i in string:\n",
    "    for j in string:\n",
    "        for k in string:\n",
    "            temp = i+j+k\n",
    "            if 'a' in temp and 'b' in temp and 'c' in temp:\n",
    "                permut.append(temp)\n",
    "print(\"permutations without repetation using 'a','b','c' is\",permut)"
   ]
  },
  {
   "cell_type": "code",
   "execution_count": 27,
   "id": "20bfadde-caec-4280-9a03-2f29fcb26612",
   "metadata": {},
   "outputs": [
    {
     "name": "stdout",
     "output_type": "stream",
     "text": [
      "These product contains both Milk and wheat.\n",
      "You should not Eat this product.\n"
     ]
    }
   ],
   "source": [
    "# A list contains ingredients of product. Avoid the product if it has both wheat and milk.\n",
    "ing = ['salt', 'pepper', 'garlic', 'wheat','egg','milk']\n",
    "if 'wheat' in ing and 'milk' in ing:\n",
    "    print('These product contains both Milk and wheat.')\n",
    "    print('You should not Eat this product.')\n",
    "else:\n",
    "    print(\"These product does't contain milk and wheat.\")\n",
    "    print('You can eat this product.')"
   ]
  },
  {
   "cell_type": "code",
   "execution_count": 35,
   "id": "6c9ebd11-3e9b-4b22-a6b5-fd493cdf95f4",
   "metadata": {},
   "outputs": [
    {
     "name": "stdin",
     "output_type": "stream",
     "text": [
      "Enter components of simple intrest!: 25000,2,5\n"
     ]
    },
    {
     "name": "stdout",
     "output_type": "stream",
     "text": [
      "Simple intrest for the 25000 for 2 years @ 5% is 2500.0\n"
     ]
    }
   ],
   "source": [
    "# Write a function to calculate simple interest.\n",
    "def simp_int(amount, time, rate):\n",
    "    return (amount*time*rate/100)\n",
    "amount, time, rate = [int(i) for i in input(\"Enter components of simple intrest!:\").split(',')]\n",
    "print('Simple intrest for the {} for {} years @ {}% is {}'.format(amount,time,rate,simp_int(amount,time,rate)))"
   ]
  }
 ],
 "metadata": {
  "kernelspec": {
   "display_name": "Python 3 (ipykernel)",
   "language": "python",
   "name": "python3"
  },
  "language_info": {
   "codemirror_mode": {
    "name": "ipython",
    "version": 3
   },
   "file_extension": ".py",
   "mimetype": "text/x-python",
   "name": "python",
   "nbconvert_exporter": "python",
   "pygments_lexer": "ipython3",
   "version": "3.11.5"
  }
 },
 "nbformat": 4,
 "nbformat_minor": 5
}

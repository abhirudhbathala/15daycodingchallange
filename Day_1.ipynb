{
 "cells": [
  {
   "cell_type": "code",
   "execution_count": 5,
   "id": "a416552b-f46d-4dbe-a16b-f005f27667a1",
   "metadata": {},
   "outputs": [
    {
     "name": "stdin",
     "output_type": "stream",
     "text": [
      "Enter value for num_A: 10\n",
      "Enter value for num_B: 29\n",
      "Enter value for num_c: 14\n"
     ]
    },
    {
     "name": "stdout",
     "output_type": "stream",
     "text": [
      "Largest number among three is 29\n"
     ]
    }
   ],
   "source": [
    "# write a program that finds the largest number among three numbers.\n",
    "def large_num(a,b,c):\n",
    "    if a>b and b>c:\n",
    "        return a\n",
    "    elif b>a and b>c:\n",
    "        return b\n",
    "    else:\n",
    "        return c\n",
    "a = int(input('Enter value for num_A:'))\n",
    "b = int(input('Enter value for num_B:'))\n",
    "c = int(input('Enter value for num_c:'))\n",
    "print('Largest number among three is',large_num(a,b,c))"
   ]
  },
  {
   "cell_type": "code",
   "execution_count": 4,
   "id": "790c9254-d42f-435a-87a5-39b863b00c27",
   "metadata": {},
   "outputs": [
    {
     "name": "stdout",
     "output_type": "stream",
     "text": [
      "Elements for swapping:\n"
     ]
    },
    {
     "name": "stdin",
     "output_type": "stream",
     "text": [
      "Enter variable_A: Ravi\n",
      "Enter variable_B: Manoj\n"
     ]
    },
    {
     "name": "stdout",
     "output_type": "stream",
     "text": [
      "Elements of variable after swapping:\n",
      "Variable_A: Manoj\n",
      "Variable_B: Ravi\n"
     ]
    }
   ],
   "source": [
    "# write a program that swaps the values of two variables\n",
    "def swap(a,b):\n",
    "    return b,a\n",
    "print('Elements for swapping:')\n",
    "a = input('Enter variable_A:')\n",
    "b = input('Enter variable_B:')\n",
    "a,b = swap(a,b)\n",
    "print('Elements of variable after swapping:')\n",
    "print('Variable_A:',a)\n",
    "print('Variable_B:',b)"
   ]
  },
  {
   "cell_type": "code",
   "execution_count": 2,
   "id": "3002d9ae-4b2c-4867-9541-f83a66fe6756",
   "metadata": {},
   "outputs": [
    {
     "name": "stdin",
     "output_type": "stream",
     "text": [
      "Enter a string!: Hello World!\n"
     ]
    },
    {
     "name": "stdout",
     "output_type": "stream",
     "text": [
      "Reverse of the string Hello World! is !dlroW olleH\n"
     ]
    }
   ],
   "source": [
    "# Write a program that reverses a given string.\n",
    "def rev(string):\n",
    "    return string[::-1]\n",
    "string = input('Enter a string!:')\n",
    "print('Reverse of the string '+string+' is '+rev(string))"
   ]
  },
  {
   "cell_type": "code",
   "execution_count": 8,
   "id": "3e98397e-9f8c-4477-9b0c-c3a4f8686047",
   "metadata": {},
   "outputs": [
    {
     "name": "stdin",
     "output_type": "stream",
     "text": [
      "Enter a number: 5\n"
     ]
    },
    {
     "name": "stdout",
     "output_type": "stream",
     "text": [
      "Factorial of 5 is 120\n"
     ]
    }
   ],
   "source": [
    "# write a program that caluclates the factorial of a given number.\n",
    "def fact(num):\n",
    "    if num<=1:\n",
    "        return 1\n",
    "    else:\n",
    "        return num*fact(num-1)\n",
    "n = int(input('Enter a number:'))\n",
    "print('Factorial of '+str(n)+' is',fact(n))"
   ]
  },
  {
   "cell_type": "code",
   "execution_count": 10,
   "id": "98c1462e-0b0e-4a4f-863f-e9e56ada5ec2",
   "metadata": {},
   "outputs": [
    {
     "name": "stdin",
     "output_type": "stream",
     "text": [
      "Enter an year: 1998\n"
     ]
    },
    {
     "name": "stdout",
     "output_type": "stream",
     "text": [
      "1998 is leap year!\n"
     ]
    }
   ],
   "source": [
    "# write a program that checks if a given year is a leap year or not.\n",
    "def leap_year(year):\n",
    "    if year%100:\n",
    "        if year%400:\n",
    "            return True\n",
    "        else:\n",
    "            return False\n",
    "    else:\n",
    "        if year%4:\n",
    "            return True\n",
    "        else :\n",
    "            return False\n",
    "year = int(input('Enter an year:'))\n",
    "if leap_year(year):\n",
    "    print(str(year)+' is leap year!')\n",
    "else:\n",
    "    print(str(year)+' is not leap year!')"
   ]
  },
  {
   "cell_type": "code",
   "execution_count": 12,
   "id": "78fcf6f7-f3c1-4133-a6cf-33c18c9efae2",
   "metadata": {},
   "outputs": [
    {
     "name": "stdin",
     "output_type": "stream",
     "text": [
      "Enter a string: Hannah\n"
     ]
    },
    {
     "name": "stdout",
     "output_type": "stream",
     "text": [
      "hannah is palidrome!\n"
     ]
    }
   ],
   "source": [
    "# write a program to check whether stirng is palidrome or not\n",
    "def palidrome(string):\n",
    "    if string == string[::-1]:\n",
    "        return print(string+' is palidrome!')\n",
    "    else:\n",
    "        return print(string+' is not palidrome!')\n",
    "\n",
    "string = input('Enter a string:')\n",
    "\n",
    "palidrome(string.lower().strip())"
   ]
  },
  {
   "cell_type": "code",
   "execution_count": 15,
   "id": "804a22bf-eb3f-462c-a09f-b930e963108f",
   "metadata": {},
   "outputs": [
    {
     "name": "stdin",
     "output_type": "stream",
     "text": [
      "Enter a string: St. Joseph's Degree College, Kurnool, 518004 \n"
     ]
    },
    {
     "name": "stdout",
     "output_type": "stream",
     "text": [
      "Vowel_count: 11\n",
      "Consonant_count: 18\n"
     ]
    }
   ],
   "source": [
    "# write a program that counts the number of vowels and consonats in string.\n",
    "def counter(string):\n",
    "    vow = 0\n",
    "    con = 0\n",
    "    for i in string:\n",
    "        if i.isalpha():\n",
    "            if  i.lower() in 'aeiou':\n",
    "                vow+=1\n",
    "            else:\n",
    "                con+=1\n",
    "    return vow, con\n",
    "string = input('Enter a string:')\n",
    "v, c = counter(string)\n",
    "print('Vowel_count:',v)\n",
    "print('Consonant_count:',c)"
   ]
  },
  {
   "cell_type": "code",
   "execution_count": 20,
   "id": "f31b86a3-ff9f-4c66-b1b4-5fca0eddd3ed",
   "metadata": {},
   "outputs": [
    {
     "name": "stdin",
     "output_type": "stream",
     "text": [
      "Which table to display: 92\n"
     ]
    },
    {
     "name": "stdout",
     "output_type": "stream",
     "text": [
      "92*1 = 92\n",
      "92*2 = 184\n",
      "92*3 = 276\n",
      "92*4 = 368\n",
      "92*5 = 460\n",
      "92*6 = 552\n",
      "92*7 = 644\n",
      "92*8 = 736\n",
      "92*9 = 828\n",
      "92*10 = 920\n"
     ]
    }
   ],
   "source": [
    "# Write a program that prints the multiplication of a given number.\n",
    "def table(num):\n",
    "    [print((str(num))+'*'+str(i)+' = '+str(num*i)) for i in range(1,11)]\n",
    "num = int(input('Which table to display:'))\n",
    "table(num)"
   ]
  },
  {
   "cell_type": "code",
   "execution_count": 21,
   "id": "68bd53e9-b9a3-43f9-b362-8cb1211112e4",
   "metadata": {},
   "outputs": [
    {
     "name": "stdout",
     "output_type": "stream",
     "text": [
      "sum of numbers between 1 to 100 is 5050\n"
     ]
    }
   ],
   "source": [
    "# write a program that caluclates the sum of all numbers form 1 to 100\n",
    "def sum(l,u):\n",
    "    sum = 0\n",
    "    for i in range(l,u+1):\n",
    "        sum += i\n",
    "    return print('sum of numbers between '+str(1)+' to '+str(u)+' is '+str(sum))\n",
    "sum(1,100)"
   ]
  },
  {
   "cell_type": "code",
   "execution_count": 23,
   "id": "5b1086df-cb20-472e-918d-a79115a05545",
   "metadata": {},
   "outputs": [
    {
     "name": "stdin",
     "output_type": "stream",
     "text": [
      "Enter elements to be sotred in list seperated  by commas: 21,42,39,89,55,73,91,11,17,69\n"
     ]
    },
    {
     "name": "stdout",
     "output_type": "stream",
     "text": [
      "list: [21, 42, 39, 89, 55, 73, 91, 11, 17, 69]\n",
      "The maximum number in list is  91\n"
     ]
    }
   ],
   "source": [
    "# Write a program to take a list of numbers as input and print the maximum value in the list\n",
    "def maximum(nums):\n",
    "    max = nums[0]\n",
    "    for i in nums:\n",
    "        if max<i:\n",
    "            max = i\n",
    "    return print('The maximum number in list is ',max)\n",
    "string = input('Enter elements to be sotred in list seperated  by commas:')\n",
    "num_list = [int(i) for i in string.split(',')]\n",
    "print('list:',num_list)\n",
    "maximum(num_list)"
   ]
  }
 ],
 "metadata": {
  "kernelspec": {
   "display_name": "Python 3 (ipykernel)",
   "language": "python",
   "name": "python3"
  },
  "language_info": {
   "codemirror_mode": {
    "name": "ipython",
    "version": 3
   },
   "file_extension": ".py",
   "mimetype": "text/x-python",
   "name": "python",
   "nbconvert_exporter": "python",
   "pygments_lexer": "ipython3",
   "version": "3.11.5"
  }
 },
 "nbformat": 4,
 "nbformat_minor": 5
}

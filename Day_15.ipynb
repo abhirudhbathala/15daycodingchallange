{
 "cells": [
  {
   "cell_type": "code",
   "execution_count": 107,
   "id": "bc6e523a-934c-4e85-83d5-4979f5d5d2b6",
   "metadata": {},
   "outputs": [
    {
     "name": "stdin",
     "output_type": "stream",
     "text": [
      "Enter your pin: 8888\n"
     ]
    },
    {
     "name": "stdout",
     "output_type": "stream",
     "text": [
      "Worng_password!\n",
      "******************************\n"
     ]
    },
    {
     "name": "stdin",
     "output_type": "stream",
     "text": [
      "Enter your pin: 1234\n"
     ]
    },
    {
     "name": "stdout",
     "output_type": "stream",
     "text": [
      "Name: ravi\n",
      "accout_id: abc123ravi\n",
      "Balance: 0\n",
      "---------------------------\n",
      "Withdraw - 1\n",
      "Deposit - 2\n"
     ]
    },
    {
     "name": "stdin",
     "output_type": "stream",
     "text": [
      "Enter your choice: 2\n",
      "Enter amount to deposit: 5000\n"
     ]
    },
    {
     "name": "stdout",
     "output_type": "stream",
     "text": [
      "Amount Deposited: 5000\n",
      "Blance: 5000\n",
      "**********************************\n"
     ]
    },
    {
     "name": "stdin",
     "output_type": "stream",
     "text": [
      "Enter your pin: 1234\n"
     ]
    },
    {
     "name": "stdout",
     "output_type": "stream",
     "text": [
      "Name: ravi\n",
      "accout_id: abc123ravi\n",
      "Balance: 5000\n",
      "---------------------------\n",
      "Withdraw - 1\n",
      "Deposit - 2\n"
     ]
    },
    {
     "name": "stdin",
     "output_type": "stream",
     "text": [
      "Enter your choice: 1\n",
      "Enter amount to withdraw: 2500\n"
     ]
    },
    {
     "name": "stdout",
     "output_type": "stream",
     "text": [
      "Amount withdrwan: 2500\n",
      "Balance : 2500\n",
      "**********************************\n"
     ]
    }
   ],
   "source": [
    "'''\n",
    "    Write a program to create a e-bank account:\n",
    "    -\tCreate a class that constructs an object with user-name, user-id, pin and balance = 0 by default as private attributes.\n",
    "    -\tClass should contain private methods __deposit and __withdraw which take amount as argument.\n",
    "    -\ta method transaction to access the above private attributes and method. When method is called it authenticate through user-id and pin and performs a single transaction either __deposit or __withdraw.\n",
    "    -\t__deposit method add amount to balance and displays massage amount deposited and display balance.\n",
    "    -\t__withdraw method withdraw amount if there is sufficient balance and displays message amount withdrawn and show remaining balance.\n",
    "    Perform at least three transactions.\n",
    "'''\n",
    "class __account:\n",
    "    def __init__(self,name, id, pin):\n",
    "        self.__name = name\n",
    "        self.__id = id\n",
    "        self.__pin = pin\n",
    "        self.__balance = 0\n",
    "    def __withdraw(self,amount):\n",
    "        if amount <= self.__balance:\n",
    "            self.__balance -= amount\n",
    "            print('Amount withdrwan:',amount)\n",
    "            print('Balance :',self.__balance)\n",
    "            print('**********************************')\n",
    "        else:\n",
    "            print('Insuffient balance:',self.__balance)\n",
    "            print('**********************************')\n",
    "    def __deposit(self,amount):\n",
    "        self.__balance += amount\n",
    "        print('Amount Deposited:',amount)\n",
    "        print('Blance:',self.__balance)\n",
    "        print('**********************************')\n",
    "    def transaction(self):\n",
    "        if self.__pin == int(input('Enter your pin:')):\n",
    "            print('Name:',self.__name)\n",
    "            print('accout_id:',self.__id)\n",
    "            print('Balance:',self.__balance)\n",
    "            print('---------------------------')\n",
    "            print('Withdraw - 1\\nDeposit - 2')\n",
    "            choice = int(input('Enter your choice:'))\n",
    "            if choice == 1:\n",
    "                amount = int(input('Enter amount to withdraw:'))\n",
    "                self.__withdraw(amount)\n",
    "            elif choice == 2:\n",
    "                amount = int(input('Enter amount to deposit:'))\n",
    "                self.__deposit(amount)\n",
    "            else:\n",
    "                print('Invalid__choice!')\n",
    "        else:\n",
    "            print('Worng_password!')\n",
    "            print('******************************')\n",
    "                \n",
    "            \n",
    "obj = __account('dummy','dummy-user',1234)\n",
    "obj.transaction()\n",
    "obj.transaction()\n",
    "obj.transaction()"
   ]
  },
  {
   "cell_type": "code",
   "execution_count": 20,
   "id": "10476774-e7f1-4506-ba5e-cb86357777c2",
   "metadata": {},
   "outputs": [
    {
     "name": "stdin",
     "output_type": "stream",
     "text": [
      "Maximum budget: 5000\n",
      "Enter type of house: 1bhk\n",
      "Furnished (yes-1, no-0): 1\n"
     ]
    },
    {
     "name": "stdout",
     "output_type": "stream",
     "text": [
      "Houses found accourding to your intrest:\n",
      "house1:[5000, '1bhk', True]\n"
     ]
    }
   ],
   "source": [
    "'''\n",
    "Write a program to perform search operation based on filter:\n",
    "    -\tA dictionary contains house-id as keys\n",
    "    -\tDictionary values include:\n",
    "        \t{rent, house-type, furnished or not} - attributes\n",
    "        \t{int, string, Boolean} – attributes_data_types\n",
    "    -\tProvide search results based on budget, house-type and Boolean.\n",
    "\n",
    "'''\n",
    "rentals = {'house1':[5000, '1bhk', True],\n",
    "           'house2':[7000, '2bhk', True],\n",
    "           'house3':[5500, '2bhk', False],\n",
    "           'house4':[8000, '3bhk', False],\n",
    "           'house5':[11000,'3bhk', True]}\n",
    "max = int(input('Maximum budget:'))\n",
    "type = input('Enter type of house:')\n",
    "furn = input('Furnished (yes-1, no-0):')\n",
    "print('Houses found accourding to your intrest:')\n",
    "for i in rentals:\n",
    "    if rentals[i][0] <= max and rentals[i][1] == type and rentals[i][2] == bool(furn):\n",
    "        print('{}:{}'.format(i,rentals[i]))"
   ]
  },
  {
   "cell_type": "code",
   "execution_count": 1,
   "id": "ebced963-9cce-4fd6-af2b-bea197614f0e",
   "metadata": {},
   "outputs": [
    {
     "name": "stdout",
     "output_type": "stream",
     "text": [
      "length of list: 10\n",
      "index of 121: 0\n",
      "index of an 121: [0, 4]\n"
     ]
    }
   ],
   "source": [
    "'''\n",
    "1.\tWrite a program to create list_extenstion class inheriting list class and define a method that return all the indexes of element as list if there no element presents in list return empty list.\n",
    "    -\tlist: [121,115, 89,54, 121, 110,33, 92, 44,67]\n",
    "    -\tlist_extenstion(list) – obj construction\n",
    "    -\tobj. indexes (121) returns [0,4]\n",
    "    Also perform list built-in method on child class.\n",
    "    \tobj. sort ()\n",
    "    \tobj. reverse ()\n",
    "    \tobj. append ()\n",
    "    Hint:   use self to access elements of list.\n",
    "        \tself [0]  gives the first element of the list and so-on.\n",
    "'''\n",
    "class list_extend(list):\n",
    "    def index_list(self,element):\n",
    "        index = []\n",
    "        for i in range(len(self)):\n",
    "            if element == self[i]:\n",
    "                index.append(i)\n",
    "        return index\n",
    "numbers = list_extend([121,115, 89,54, 121, 110,33, 92, 44,67])\n",
    "print('length of list:',len(numbers))\n",
    "print('index of 121:',numbers.index(121))\n",
    "print('index of an 121:',numbers.index_list(121))"
   ]
  },
  {
   "cell_type": "code",
   "execution_count": 49,
   "id": "ef67ab95-fc30-4ac0-a59f-73a709eb504e",
   "metadata": {},
   "outputs": [
    {
     "name": "stdout",
     "output_type": "stream",
     "text": [
      "Lets play Rock - Paper - Scissor:\n"
     ]
    },
    {
     "name": "stdin",
     "output_type": "stream",
     "text": [
      "Enter your choice: paper\n"
     ]
    },
    {
     "name": "stdout",
     "output_type": "stream",
     "text": [
      "Computer choice: paper\n",
      "YOU: paper vs COMP: paper\n",
      "result: Draw\n"
     ]
    }
   ],
   "source": [
    "''' \n",
    "Write a program to play “rock-paper-scissor” between computer and player.\n",
    "Hint: random. choice ()\n",
    "'''\n",
    "import random\n",
    "def rock_paper_scissor(choice,comp):\n",
    "    if choice == comp:\n",
    "        return 'Draw'\n",
    "    c_win = {'rock':'scissor','paper':'rock','scissor':'paper'}\n",
    "    for i in c_win:\n",
    "        if i == comp:\n",
    "            if c_win[i] == choice:\n",
    "                return 'Computer won'\n",
    "            else: \n",
    "                return 'You won'\n",
    "print('Lets play Rock - Paper - Scissor:')\n",
    "choice = input('Enter your choice:')\n",
    "comp = random.choice(['rock','paper','scissor'])\n",
    "print('Computer choice:',comp)\n",
    "print('YOU: {} vs COMP: {}'.format(choice,comp))\n",
    "print('result:',rock_paper_scissor(choice,comp))"
   ]
  },
  {
   "cell_type": "code",
   "execution_count": 65,
   "id": "6fdc0771-8a6f-4498-9ef8-8b0406ca5d49",
   "metadata": {},
   "outputs": [
    {
     "name": "stdout",
     "output_type": "stream",
     "text": [
      "Dictionary before sorting: {'Developer': 'Katty-perry', 'Designer': 'Taylor-swift', 'Tester': 'Bille-eillish', 'Analyst': 'Arina-Grande', 'Programmer': 'Dua-lipa'}\n",
      "Dictionary after sorting: {'Analyst': 'Arina-Grande', 'Tester': 'Bille-eillish', 'Programmer': 'Dua-lipa', 'Developer': 'Katty-perry', 'Designer': 'Taylor-swift'}\n"
     ]
    }
   ],
   "source": [
    "# A dictionary contains strings as values. sort the dictionary by values.\n",
    "dictionary = {'Developer':'Katty-perry', 'Designer':'Taylor-swift', 'Tester':'Bille-eillish', 'Analyst':'Arina-Grande', 'Programmer':'Dua-lipa'}\n",
    "sort_dict = dict({})\n",
    "temp = sorted(my_team.values())\n",
    "for i in temp:\n",
    "    for j in dictionary:\n",
    "        if dictionary[j] == i:\n",
    "            sort_dict.update({j:i})\n",
    "print('Dictionary before sorting:',dictionary)\n",
    "print('Dictionary after sorting:',sort_dict)"
   ]
  },
  {
   "cell_type": "code",
   "execution_count": 1,
   "id": "cf6d12f9-94e2-442f-b0ef-9d0c41999f2a",
   "metadata": {},
   "outputs": [
    {
     "name": "stdout",
     "output_type": "stream",
     "text": [
      "Numbers_list: [23, 45, 72, 19, 35]\n"
     ]
    },
    {
     "name": "stdin",
     "output_type": "stream",
     "text": [
      "Enter a number: 54\n"
     ]
    },
    {
     "name": "stdout",
     "output_type": "stream",
     "text": [
      "sum(19,35) for the list makes 54.\n"
     ]
    }
   ],
   "source": [
    "# write a program to check sum of any two numbers in list make the number taken from console.\n",
    "def check(nums, target):\n",
    "    for i in range(len(nums)):\n",
    "        for j in range(i+1,len(nums)):\n",
    "            if nums[i] + nums[j] == target:\n",
    "                return print('sum({},{}) for the list makes {}.'.format(nums[i],nums[j],target))\n",
    "    return print('No two numbers in list makes {}'.format(target))\n",
    "nums = [23, 45, 72, 19, 35]\n",
    "print('Numbers_list:',nums)\n",
    "temp = int(input('Enter a number:'))\n",
    "check(nums, temp) "
   ]
  },
  {
   "cell_type": "code",
   "execution_count": 2,
   "id": "39da0adf-66e6-4a52-8f71-688216907e57",
   "metadata": {},
   "outputs": [
    {
     "name": "stdout",
     "output_type": "stream",
     "text": [
      "Speed_list: [92, 44, 55, 77, 82]\n",
      "Total tickets raised: 3\n",
      "Total fine charged: 450\n"
     ]
    }
   ],
   "source": [
    "'''\n",
    "A over speed ticket is raised above 70 kmph. \n",
    "A list contains data collected at different check-point in a month.\n",
    "first ticket fine is 100 ruppes and after that additional fifty ruppes added to previous ticket fine.\n",
    "eg: 1-ticket = 100\n",
    "    2-ticket = 150\n",
    "    3-ticket = 200 and ........\n",
    "Write a program to caluclate total fine in one month.\n",
    "'''\n",
    "speeds = [92, 44, 55, 77, 82]\n",
    "tickets = 0\n",
    "fine = 0\n",
    "temp = 100\n",
    "for i in speeds:\n",
    "    if i > 70:\n",
    "        tickets += 1\n",
    "for  i in range(tickets) :\n",
    "    fine += temp\n",
    "    temp += 50\n",
    "print('Speed_list:',speeds)\n",
    "print('Total tickets raised:',tickets)\n",
    "print('Total fine charged:',fine)"
   ]
  },
  {
   "cell_type": "code",
   "execution_count": 1,
   "id": "bcfd1034-138d-47f8-85d1-941a8be2d1cf",
   "metadata": {},
   "outputs": [
    {
     "name": "stdout",
     "output_type": "stream",
     "text": [
      "Actual_list: [9, 2, 3, 7, 1, 4, 5, 8, 0, 6]\n",
      "Sorted_list: [0, 2, 4, 6, 8, 1, 3, 5, 7, 9]\n"
     ]
    }
   ],
   "source": [
    "# write a function to take a list as parameter and return a list by sorting list where even numbers first and odd numbers comes after even numbers.\n",
    "def sorting(nums):\n",
    "    even = []\n",
    "    odd = []\n",
    "    for i in nums:\n",
    "        if i%2:\n",
    "            odd.append(i)\n",
    "        else:\n",
    "            even.append(i)\n",
    "    odd.sort()\n",
    "    even.sort()\n",
    "    nums = even+odd\n",
    "    return nums\n",
    "\n",
    "numbers = [9, 2, 3, 7, 1, 4, 5, 8, 0, 6]\n",
    "print('Actual_list:',numbers)\n",
    "print('Sorted_list:',sorting(numbers))"
   ]
  },
  {
   "cell_type": "code",
   "execution_count": 6,
   "id": "779a9f9a-1911-4d4e-96c9-2ea01d276dab",
   "metadata": {},
   "outputs": [
    {
     "name": "stdin",
     "output_type": "stream",
     "text": [
      "Enter a number: 15\n"
     ]
    },
    {
     "name": "stdout",
     "output_type": "stream",
     "text": [
      "15 is not part of fibonacci series.\n"
     ]
    }
   ],
   "source": [
    "# write a program to take a number from user and check whether it is part of Fibonacci sequence or not.\n",
    "num = int(input('Enter a number:'))\n",
    "a , b , c = 0, 1, 0\n",
    "while a<num+1:\n",
    "    a = c\n",
    "    c = a+b\n",
    "    b = c\n",
    "    if a == num:\n",
    "        print('{} is part of fibonacci series.'.format(num))\n",
    "        break\n",
    "if a > num:\n",
    "    print('{} is not part of fibonacci series.'.format(num))"
   ]
  },
  {
   "cell_type": "code",
   "execution_count": 19,
   "id": "7d3bd6d5-b6c3-41bb-8d0f-2fc00641cd61",
   "metadata": {},
   "outputs": [
    {
     "name": "stdin",
     "output_type": "stream",
     "text": [
      "Enter a number: 2\n",
      "Enter another number: 4\n"
     ]
    },
    {
     "ename": "Exception",
     "evalue": "No Error Found!",
     "output_type": "error",
     "traceback": [
      "\u001b[1;31m---------------------------------------------------------------------------\u001b[0m",
      "\u001b[1;31mException\u001b[0m                                 Traceback (most recent call last)",
      "Cell \u001b[1;32mIn[19], line 9\u001b[0m\n\u001b[0;32m      7\u001b[0m     \u001b[38;5;28mprint\u001b[39m(\u001b[38;5;124m'\u001b[39m\u001b[38;5;124mAn Error!\u001b[39m\u001b[38;5;124m'\u001b[39m)\n\u001b[0;32m      8\u001b[0m \u001b[38;5;28;01melse\u001b[39;00m:\n\u001b[1;32m----> 9\u001b[0m     \u001b[38;5;28;01mraise\u001b[39;00m \u001b[38;5;167;01mException\u001b[39;00m(\u001b[38;5;124m'\u001b[39m\u001b[38;5;124mNo Error Found!\u001b[39m\u001b[38;5;124m'\u001b[39m)\n",
      "\u001b[1;31mException\u001b[0m: No Error Found!"
     ]
    }
   ],
   "source": [
    "# Write a program to perform exception handling and raise exception with message - 'No Error Found' in else block.\n",
    "try:\n",
    "    a = int(input('Enter a number:'))\n",
    "    b = int(input('Enter another number:'))\n",
    "    c = a/b\n",
    "except ZeroDivisionError:\n",
    "    print('An Error!')\n",
    "else:\n",
    "    raise Exception('No Error Found!')"
   ]
  }
 ],
 "metadata": {
  "kernelspec": {
   "display_name": "Python 3 (ipykernel)",
   "language": "python",
   "name": "python3"
  },
  "language_info": {
   "codemirror_mode": {
    "name": "ipython",
    "version": 3
   },
   "file_extension": ".py",
   "mimetype": "text/x-python",
   "name": "python",
   "nbconvert_exporter": "python",
   "pygments_lexer": "ipython3",
   "version": "3.11.5"
  }
 },
 "nbformat": 4,
 "nbformat_minor": 5
}
